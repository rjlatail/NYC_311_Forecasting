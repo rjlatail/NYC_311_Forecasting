{
 "cells": [
  {
   "cell_type": "markdown",
   "id": "72c04994-911c-44d6-8cea-3c00f27fd541",
   "metadata": {},
   "source": [
    "# NYC 311 Calls: Data Preparation\n",
    "The NYC Open Data site maintains a complete record of all requests made to the 311 Service beginning January 1, 2010.  The dataset includes over 36 million records with over 40 features.  The file is over 20GB.  Reading it in its entirely taxes most computers and can take a very long time (over 20 minutes on my computer).  To ease the operation of the main notebook, this notebook reads in only the data necessary for this analysis, performs all data processing necessary and converts the data into pickle files, reducing total size to under 1GB.  Reading operations should also be greatly improved (less than 6 seconds on my computer)."
   ]
  },
  {
   "cell_type": "code",
   "execution_count": 1,
   "id": "c6561d3a-8d4f-4938-8595-3bb8c44cb73b",
   "metadata": {},
   "outputs": [],
   "source": [
    "import pandas as pd\n",
    "import time"
   ]
  },
  {
   "cell_type": "code",
   "execution_count": 2,
   "id": "c1fa6144-c67c-43e4-97db-3759917e1516",
   "metadata": {},
   "outputs": [
    {
     "name": "stdout",
     "output_type": "stream",
     "text": [
      "CPU times: total: 43.6 s\n",
      "Wall time: 1min 3s\n"
     ]
    }
   ],
   "source": [
    "%%time\n",
    "# Read in 311 data\n",
    "\n",
    "df_311_calls  = pd.read_csv('Data/311_Service_Requests_20240430.csv',\n",
    "                            index_col='Unique Key',\n",
    "                            usecols = ['Agency','Complaint Type','Created Date','Incident Zip','Unique Key'],\n",
    "                            dtype = {'Agency':'category','Complaint Type':str,'Created Date':str,'Incident Zip':str,'Unique Key':'int64'})\n",
    "\n",
    "df_311_calls = df_311_calls.rename(columns={'Complaint Type': 'Type', 'Created Date': 'Date', 'Incident Zip': 'Zip'})"
   ]
  },
  {
   "cell_type": "code",
   "execution_count": 3,
   "id": "5933d298-b6e6-49a7-993d-fd779ca2788c",
   "metadata": {},
   "outputs": [
    {
     "name": "stdout",
     "output_type": "stream",
     "text": [
      "CPU times: total: 0 ns\n",
      "Wall time: 13.1 ms\n"
     ]
    }
   ],
   "source": [
    "%%time\n",
    "# Read in NYC zip codes\n",
    "df_zips = pd.read_csv('Data/uszips/uszips.csv',\n",
    "                      index_col = 'zip',\n",
    "                      usecols=['lat','lng','population','density','zip'],\n",
    "                      dtype = {'zip': str} )\n",
    "\n",
    "df_zips = df_zips.rename(columns={'population': 'zip_population', 'density': 'zip_density'})"
   ]
  },
  {
   "cell_type": "code",
   "execution_count": 4,
   "id": "8d210588-77eb-4fa4-8d74-cbf8dd2a6d99",
   "metadata": {},
   "outputs": [
    {
     "name": "stdout",
     "output_type": "stream",
     "text": [
      "Initial items: 36,217,243\n"
     ]
    }
   ],
   "source": [
    "print(f'Initial items: {len(df_311_calls):,.0f}')"
   ]
  },
  {
   "cell_type": "code",
   "execution_count": 5,
   "id": "5662560c-b89e-4408-8729-fd2968fea77f",
   "metadata": {},
   "outputs": [
    {
     "name": "stdout",
     "output_type": "stream",
     "text": [
      "Rows with locations: 34,682,301\n",
      "CPU times: total: 984 ms\n",
      "Wall time: 1.31 s\n"
     ]
    }
   ],
   "source": [
    "%%time\n",
    "# Drop rows with no useable location data\n",
    "no_loc = df_311_calls['Zip'].isna() #& df_311['Latitude'].isna()\n",
    "df_311_calls = df_311_calls[~no_loc]\n",
    "print(f'Rows with locations: {len(df_311_calls):,.0f}')"
   ]
  },
  {
   "cell_type": "code",
   "execution_count": 6,
   "id": "b8fa1bdd-7ba2-47dd-9330-972f521e07cb",
   "metadata": {},
   "outputs": [
    {
     "name": "stdout",
     "output_type": "stream",
     "text": [
      "Rows in the date range: 34,435,921\n",
      "CPU times: total: 31.4 s\n",
      "Wall time: 54.7 s\n"
     ]
    }
   ],
   "source": [
    "%%time\n",
    "# Convert date columns to datetime, dropping time component and dropping dates after March 31, 2024\n",
    "date_format = '%m/%d/%Y %I:%M:%S %p'\n",
    "df_311_calls['Date'] = pd.to_datetime(df_311_calls['Date'], format=date_format).values.astype('datetime64[D]')\n",
    "df_311_calls = df_311_calls[df_311_calls['Date'] < pd.Timestamp('2024-04-01')]\n",
    "print(f'Rows in the date range: {len(df_311_calls):,.0f}')"
   ]
  },
  {
   "cell_type": "code",
   "execution_count": 7,
   "id": "7b2e5725-9a62-4f11-8a35-536d447f94d6",
   "metadata": {},
   "outputs": [
    {
     "name": "stdout",
     "output_type": "stream",
     "text": [
      "Rows in NYC: 34,388,549\n",
      "CPU times: total: 6.44 s\n",
      "Wall time: 9.27 s\n"
     ]
    }
   ],
   "source": [
    "%%time\n",
    "# Convert NaN values in 'Incident Zip' to 'empty', to simplify further processing\n",
    "df_311_calls['Zip'] = df_311_calls['Zip'].fillna('empty')\n",
    "df_311_calls.isna().sum()\n",
    "\n",
    "# Clean up ZIP codes by removing '-####' if present\n",
    "df_311_calls['Zip'] = df_311_calls['Zip'].str.replace(r'-\\d{4}$', '', regex=True)\n",
    "\n",
    "# Drop all rows with zip codes not in NYC\n",
    "df_311_calls = df_311_calls[df_311_calls['Zip'].isin(df_zips.index)]\n",
    "print(f'Rows in NYC: {len(df_311_calls):,.0f}')"
   ]
  },
  {
   "cell_type": "code",
   "execution_count": 8,
   "id": "9e12f536-3c44-4156-82a7-f613b23c80bb",
   "metadata": {},
   "outputs": [
    {
     "name": "stdout",
     "output_type": "stream",
     "text": [
      "CPU times: total: 859 ms\n",
      "Wall time: 1.14 s\n"
     ]
    }
   ],
   "source": [
    "%%time\n",
    "# Consolidate agencies, replacing minor agencies with 'Other'\n",
    "agency_dict = {\n",
    "    'NYPD': 'Police',\n",
    "    'HPD': 'Housing',\n",
    "    'DSNY': 'Sanitation',\n",
    "    'DOT': 'Transportation',\n",
    "    'DEP': 'Environment',\n",
    "    'DOB': 'Buildings',\n",
    "    'DPR': 'Parks',\n",
    "    'DOMHM': 'Health',\n",
    "    'DOF': 'Finance',\n",
    "    'TLC': 'Taxi',\n",
    "    'DHS': 'Homeless',\n",
    "    'DCA': 'Consumer',\n",
    "    'DEPARTMENT OF CONSUMER AND WORKER PROTECTION': 'Consumer',\n",
    "    'HRA': 'Human Resources',\n",
    "}\n",
    "\n",
    "df_311_calls['Agency'] = df_311_calls['Agency'].map(agency_dict).fillna('Other')"
   ]
  },
  {
   "cell_type": "code",
   "execution_count": 9,
   "id": "c83f0afb-36d6-4922-ba12-80a6f416b3d5",
   "metadata": {},
   "outputs": [
    {
     "name": "stdout",
     "output_type": "stream",
     "text": [
      "CPU times: total: 1.5 s\n",
      "Wall time: 1.97 s\n"
     ]
    }
   ],
   "source": [
    "%%time\n",
    "# Convert all line items to lowercase\n",
    "df_311_calls['Type'] = df_311_calls['Type'].str.lower()"
   ]
  },
  {
   "cell_type": "code",
   "execution_count": 10,
   "id": "d15b960a-801e-43f6-84cf-f7de7cb716cd",
   "metadata": {},
   "outputs": [],
   "source": [
    "# Convert complaint types to fewer categories\n",
    "complaint_dict = {\n",
    "    'noise - residential': 'Noise','illegal parking': 'Vehicle','heat/hot water': 'Resident Utility','blocked driveway': 'Vehicle','street condition': 'Street Condition','noise - street/sidewalk': 'Noise',\n",
    "    'street light condition': 'Traffic Device','request large bulky item collection': 'Item Pickup','plumbing': 'Resident Utility','heating': 'Resident Utility','water system': 'Resident Utility',\n",
    "    'unsanitary condition': 'Sanitation','noise': 'Noise','general construction/plumbing': 'Resident Utility','traffic signal condition': 'Traffic Device','noise - commercial': 'Noise',\n",
    "    'paint/plaster': 'Buildings','noise - vehicle': 'Noise','general construction': 'Construction','sewer': 'Sewer','damaged tree': 'Tree','rodent': 'Sanitation','dirty conditions': 'Sanitation',\n",
    "    'electric': 'Resident Utility','derelict vehicles': 'Vehicle','sanitation condition': 'Sanitation','door/window': 'Buildings','paint - plaster': 'Buildings','sidewalk condition': 'Street Condition',\n",
    "    'water leak': 'Resident Utility','building/use': 'Buildings','missed collection (all materials)': 'Sanitation','literature request': 'Other','consumer complaint': 'Consumer','general': 'Other',\n",
    "    'homeless person assistance': 'Social Services','nonconst': 'Other','abandoned vehicle': 'Vehicle','new tree request': 'Tree','flooring/stairs': 'Buildings','graffiti': 'Quality of Life',\n",
    "    'overgrown tree/branches': 'Tree','non-emergency police matter': 'Police','derelict vehicle': 'Vehicle','maintenance or facility': 'Other','taxi complaint': 'Taxi','appliance': 'Buildings',\n",
    "    'elevator': 'Buildings','broken muni meter': 'Parking','missed collection': 'Sanitation','noise - helicopter': 'Noise','root/sewer/sidewalk condition': 'Street Condition','food establishment': 'Vendors',\n",
    "    'for hire vehicle complaint': 'Taxi','dirty condition': 'Sanitation','air quality': 'Environmental','benefit card replacement': 'Social Services','encampment': 'Social Services',\n",
    "    'dof property - reduction issue': 'Finance','lead': 'Public Health','safety': 'Other','street sign - damaged': 'Traffic Device','illegal fireworks': 'Quality of Life','snow': 'Snow',\n",
    "    'electronics waste appointment': 'Item Pickup','scrie': 'Housing','dead/dying tree': 'Tree','illegal dumping': 'Sanitation','broken parking meter': 'Parking','other enforcement': 'Police',\n",
    "    'dof parking - payment issue': 'Finance','indoor air quality': 'Buildings','noise - park': 'Noise','curb condition': 'Street Condition','street sign - missing': 'Traffic Device',\n",
    "    'noncompliance with phased reopening': 'Public Health','dof property - owner issue': 'Finance','traffic': 'Traffic Device','dof property - request copy': 'Finance','highway condition': 'Street Condition',\n",
    "    'dead tree': 'Tree','emergency response team (ert)': 'Buildings','special projects inspection team (spit)': 'Construction','water conservation': 'Parks and Rec','dof property - payment issue': 'Finance',\n",
    "    'hpd literature request': 'Housing','animal abuse': 'Animal','housing - low income senior': 'Housing','drug activity': 'Police','vending': 'Quality of Life','electrical': 'Resident Utility',\n",
    "    'illegal tree damage': 'Tree','dhs advantage - tenant': 'Housing','food poisoning': 'Public Health','street sign - dangling': 'Traffic Device','violation of park rules': 'Parks and Rec',\n",
    "    'homeless encampment': 'Social Services','smoking': 'Public Health','animal-abuse': 'Animal','animal in a park': 'Animal','hazardous materials': 'Environmental','obstruction': 'Vehicle',\n",
    "    'construction': 'Construction','lost property': 'Other','litter basket / request': 'Sanitation','boilers': 'Resident Utility','construction safety enforcement': 'Construction',\n",
    "    'dhs advantage -landlord/broker': 'Housing','unsanitary animal pvt property': 'Animal','drinking': 'Social Services','residential disposal complaint': 'Sanitation','standing water': 'Environmental',\n",
    "    'electronics waste': 'Item Pickup','panhandling': 'Social Services','dca / doh new license application request': 'Vendors','asbestos': 'Buildings','dead animal': 'Animal',\n",
    "    'dof property - update account': 'Finance','outdoor dining': 'Vendors','best/site safety': 'Construction','street sweeping complaint': 'Street Condition','water quality': 'Resident Utility',\n",
    "    'vendor enforcement': 'Vendors','real time enforcement': 'Buildings','housing options': 'Housing','bus stop shelter complaint': 'Social Services','industrial waste': 'Environmental',\n",
    "    'bike/roller/skate chronic': 'Quality of Life','mobile food vendor': 'Vendors','overflowing litter baskets': 'Sanitation','derelict bicycle': 'Vehicle','noise survey': 'Noise','non-residential heat': 'Buildings',\n",
    "    'miscellaneous categories': 'Other','homeless street condition': 'Social Services','noise - house of worship': 'Noise','taxi report': 'Taxi','traffic/illegal parking': 'Vehicle','unleashed dog': 'Animal',\n",
    "    'indoor sewage': 'Resident Utility','outside building': 'Other','snow or ice': 'Snow','dof parking - request status': 'Finance','unsanitary pigeon condition': 'Animal','sweeping/missed': 'Street Condition',\n",
    "    'dof parking - request copy': 'Finance','recycling enforcement': 'Sanitation','dpr internal': 'Parks and Rec','urinating in public': 'Social Services','litter basket request': 'Sanitation',\n",
    "    'day care': 'Social Services','illegal posting': 'Quality of Life','borough office': 'Other','sanitation worker or vehicle complaint': 'Sanitation','vaccine mandate non-compliance': 'Public Health',\n",
    "    'covid-19 non-essential construction': 'Construction','building marshals office': 'Buildings','commercial disposal complaint': 'Sanitation','dof parking - tax exemption': 'Finance',\n",
    "    'bridge condition': 'Street Condition','sustainability enforcement': 'Sanitation','taxi compliment': 'Taxi','elder abuse': 'Social Services','sweeping/missed-inadequate': 'Street Condition',\n",
    "    'disorderly youth': 'Social Services','abandoned bike': 'Vehicle','mold': 'Buildings','dumpster complaint': 'Sanitation','illegal animal kept as pet': 'Animal','mosquitoes': 'Environmental',\n",
    "    'for hire vehicle report': 'Taxi','drie': 'Housing','found property': 'Other','home delivered meal - missed delivery': 'Social Services','litter basket complaint': 'Sanitation',\n",
    "    'construction lead dust': 'Environmental','mass gathering complaint': 'Quality of Life','cranes and derricks': 'Construction','dof property - rpie issue': 'Finance','posting advertisement': 'Quality of Life',\n",
    "    'home repair': 'Buildings','harboring bees/wasps': 'Animal','scaffold safety': 'Construction','adopt-a-basket': 'Sanitation','senior center complaint': 'Social Services','plant': 'Other',\n",
    "    'window guard': 'Buildings','sewer maintenance': 'Sewer','snow removal': 'Snow','sweeping/inadequate': 'Street Condition',\"alzheimer's care\": 'Social Services','beach/pool/sauna complaint': 'Parks and Rec',\n",
    "    'city vehicle placard complaint': 'Other','drinking water': 'Resident Utility','collection truck noise': 'Sanitation','question': 'Other','facades': 'Buildings','private or charter school reopening': 'Public Health',\n",
    "    'dof property - property value': 'Finance','dof parking - dmv clearance': 'Finance','request xmas tree collection': 'Item Pickup','poison ivy': 'Environmental','oem disabled vehicle': 'Vehicle',\n",
    "    'uprooted stump': 'Tree','wood pile remaining': 'Construction','face covering violation': 'Public Health','tattooing': 'Other','heap assistance': 'Resident Utility','highway sign - damaged': 'Traffic Device',\n",
    "    'quality of life': 'Quality of Life','utility program': 'Resident Utility','executive inspections': 'Buildings','forms': 'Other','dhs advantage - third party': 'Public Health','unsanitary animal facility': 'Vendors',\n",
    "    'green taxi complaint': 'Taxi','dof property - city rebate': 'Finance','forensic engineering': 'Buildings','weatherization': 'Buildings','pet shop': 'Vendors','animal facility - no permit': 'Vendors',\n",
    "    'special natural area district (snad)': 'Parks and Rec','municipal parking facility': 'Parking','home delivered meal complaint': 'Social Services','illegal animal sold': 'Animal',\n",
    "    'seasonal collection': 'Item Pickup','dep street condition': 'Street Condition','stalled sites': 'Other','advocate-personal exemptions': 'Finance','highway sign - missing': 'Traffic Device',\n",
    "    'ahv inspection unit': 'Vendors','e-scooter': 'Quality of Life','public toilet': 'Parks and Rec','eviction': 'Housing','fatf': 'Finance','dof parking - address update': 'Parking',\n",
    "    'advocate-prop refunds/credits': 'Finance','water maintenance': 'Resident Utility','highway sign - dangling': 'Traffic Device','parking card': 'Parking','taxpayer advocate inquiry': 'Finance',\n",
    "    'summer camp': 'Parks and Rec','special operations': 'Quality of Life','incorrect data': 'Other','bereavement support group': 'Social Services','advocate - other': 'Social Services','lifeguard': 'Parks and Rec',\n",
    "    'squeegee': 'Quality of Life','x-ray machine/equipment': 'Other','home care provider complaint': 'Social Services','case management agency complaint': 'Social Services','atf': 'Police',\n",
    "    'private school vaccine mandate non-compliance': 'Public Health','overflowing recycling baskets': 'Sanitation','comments': 'Other','cooling tower': 'Buildings','recycling basket complaint': 'Sanitation',\n",
    "    'calorie labeling': 'Vendors','legal services provider complaint': 'Social Services','health': 'Public Health','radioactive material': 'Environmental','dhs income savings requirement': 'Housing',\n",
    "    'institution disposal complaint': 'Sanitation','water drainage': 'Environmental','green taxi report': 'Taxi','peeling paint': 'Buildings','tunnel condition': 'Street Condition',\n",
    "    'building drinking water tank': 'Buildings',\n",
    "}    "
   ]
  },
  {
   "cell_type": "code",
   "execution_count": 11,
   "id": "19602708-c987-4da0-af01-35ada5f661f9",
   "metadata": {},
   "outputs": [
    {
     "name": "stdout",
     "output_type": "stream",
     "text": [
      "CPU times: total: 2.25 s\n",
      "Wall time: 3.17 s\n"
     ]
    }
   ],
   "source": [
    "%%time\n",
    "df_311_calls['Type'] = df_311_calls['Type'].map(complaint_dict).fillna('Other')"
   ]
  },
  {
   "cell_type": "code",
   "execution_count": 12,
   "id": "16562956-ba10-4fe9-bd24-4fcddad068a7",
   "metadata": {},
   "outputs": [
    {
     "name": "stdout",
     "output_type": "stream",
     "text": [
      "CPU times: total: 15.6 ms\n",
      "Wall time: 23.9 ms\n"
     ]
    }
   ],
   "source": [
    "%%time\n",
    "# Read in NYC weather data, and format\n",
    "df_weather = pd.read_csv('Data/NYC_weather_data.csv')\n",
    "df_weather.drop('Unnamed: 0', axis=1, inplace=True)\n",
    "df_weather['date'] = pd.to_datetime(df_weather['date']).values.astype('datetime64[D]')\n",
    "df_weather.set_index('date',inplace=True)\n",
    "df_weather.drop_duplicates(inplace=True)\n",
    "df_weather = df_weather[df_weather.index < pd.Timestamp('2024-04-01')]"
   ]
  },
  {
   "cell_type": "code",
   "execution_count": 13,
   "id": "5cd2aeb7-3a30-44c1-bee0-f31c6dc9de20",
   "metadata": {},
   "outputs": [
    {
     "name": "stdout",
     "output_type": "stream",
     "text": [
      "CPU times: total: 2.03 s\n",
      "Wall time: 2.51 s\n"
     ]
    }
   ],
   "source": [
    "%%time\n",
    "df_311_calls['Agency'] = df_311_calls['Agency'].astype('category')\n",
    "df_311_calls['Type'] = df_311_calls['Type'].astype('category') "
   ]
  },
  {
   "cell_type": "code",
   "execution_count": 14,
   "id": "33bce8ae-32be-4296-8f2f-36bffd2b9874",
   "metadata": {},
   "outputs": [
    {
     "name": "stdout",
     "output_type": "stream",
     "text": [
      "CPU times: total: 719 ms\n",
      "Wall time: 1.67 s\n"
     ]
    }
   ],
   "source": [
    "%%time\n",
    "df_311_calls.to_pickle('Data/311_Calls.pickle')\n",
    "df_zips.to_pickle('Data/NYC_Zips.pickle')\n",
    "df_weather.to_pickle('Data/NYC_Weather.pickle')"
   ]
  },
  {
   "cell_type": "code",
   "execution_count": 15,
   "id": "1e917a4f-6e1c-4fcc-8d99-d2514b66b19d",
   "metadata": {},
   "outputs": [],
   "source": [
    "# Load shapefile of zip codes\n",
    "#filtered_shapefile_path = 'Data/USA_ZIP_Code_Boundaries/filtered_zip_code_shapefile.shp'\n",
    "#filtered_zip_codes_gdf = gpd.read_file(filtered_shapefile_path)"
   ]
  },
  {
   "cell_type": "code",
   "execution_count": 16,
   "id": "5ff3e870-9685-434f-a74a-90e1ace533c1",
   "metadata": {},
   "outputs": [],
   "source": [
    "# Fill in latitude and longitude when a zip code is available\n",
    "\n",
    "# Latitude and longitude from US Zip Code file\n",
    "#zip_to_lat = df_zip['lat'].to_dict()\n",
    "#zip_to_lng = df_zip['lng'].to_dict()\n",
    "\n",
    "# Fill in missing latitude and longitude using the mapping, but only if values don't already exist\n",
    "#df_311.loc[df_311['Latitude'].isna(), 'Latitude'] = df_311['Zip'].map(zip_to_lat)\n",
    "#df_311.loc[df_311['Longitude'].isna(), 'Longitude'] = df_311['Zip'].map(zip_to_lng)"
   ]
  }
 ],
 "metadata": {
  "kernelspec": {
   "display_name": "Python 3 (ipykernel)",
   "language": "python",
   "name": "python3"
  },
  "language_info": {
   "codemirror_mode": {
    "name": "ipython",
    "version": 3
   },
   "file_extension": ".py",
   "mimetype": "text/x-python",
   "name": "python",
   "nbconvert_exporter": "python",
   "pygments_lexer": "ipython3",
   "version": "3.12.3"
  }
 },
 "nbformat": 4,
 "nbformat_minor": 5
}

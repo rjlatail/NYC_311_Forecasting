{
 "cells": [
  {
   "cell_type": "markdown",
   "id": "72c04994-911c-44d6-8cea-3c00f27fd541",
   "metadata": {},
   "source": [
    "# NYC 311 Calls: Data Preparation\n",
    "The NYC Open Data site maintains a complete record of all requests made to the 311 Service beginning January 1, 2010.  The dataset includes over 36 million records with over 40 features.  The file is over 20GB.  Reading it in its entirely taxes most computers and can take a very long time (over 20 minutes on my computer).  To ease the operation of the main notebook, this notebook reads in only the data necessary for this analysis, performs all data processing necessary and converts the data into pickle files, reducing total size to under 1GB.  Reading operations should also be greatly improved (less than 6 seconds on my computer)."
   ]
  },
  {
   "cell_type": "code",
   "execution_count": 2,
   "id": "c6561d3a-8d4f-4938-8595-3bb8c44cb73b",
   "metadata": {},
   "outputs": [],
   "source": [
    "import pandas as pd\n",
    "import time"
   ]
  },
  {
   "cell_type": "code",
   "execution_count": 3,
   "id": "c1fa6144-c67c-43e4-97db-3759917e1516",
   "metadata": {},
   "outputs": [
    {
     "name": "stdout",
     "output_type": "stream",
     "text": [
      "CPU times: total: 3min 25s\n",
      "Wall time: 3min 29s\n"
     ]
    }
   ],
   "source": [
    "%%time\n",
    "# Read in 311 data\n",
    "\n",
    "df_311_calls  = pd.read_csv('Data/311_Service_Requests_20240430.csv',\n",
    "                            index_col='Unique Key',\n",
    "                            usecols = ['Agency','Complaint Type','Created Date','Incident Zip','Unique Key', 'Descriptor'],\n",
    "                            dtype = {'Agency':'category','Complaint Type':str,'Created Date':str,'Incident Zip':str,'Unique Key':'int64', 'Descriptor':str})\n",
    "\n",
    "df_311_calls = df_311_calls.rename(columns={'Complaint Type': 'Type', 'Created Date': 'Date', 'Incident Zip': 'Zip'})"
   ]
  },
  {
   "cell_type": "code",
   "execution_count": 4,
   "id": "5933d298-b6e6-49a7-993d-fd779ca2788c",
   "metadata": {},
   "outputs": [
    {
     "name": "stdout",
     "output_type": "stream",
     "text": [
      "CPU times: total: 15.6 ms\n",
      "Wall time: 17 ms\n"
     ]
    }
   ],
   "source": [
    "%%time\n",
    "# Read in NYC zip codes\n",
    "df_zips = pd.read_csv('Data/uszips/uszips.csv',\n",
    "                      index_col = 'zip',\n",
    "                      usecols=['lat','lng','population','density','zip'],\n",
    "                      dtype = {'zip': str} )\n",
    "\n",
    "df_zips = df_zips.rename(columns={'population': 'zip_population', 'density': 'zip_density'})"
   ]
  },
  {
   "cell_type": "code",
   "execution_count": 5,
   "id": "8d210588-77eb-4fa4-8d74-cbf8dd2a6d99",
   "metadata": {},
   "outputs": [
    {
     "name": "stdout",
     "output_type": "stream",
     "text": [
      "Initial items: 36,217,243\n"
     ]
    }
   ],
   "source": [
    "print(f'Initial items: {len(df_311_calls):,.0f}')"
   ]
  },
  {
   "cell_type": "code",
   "execution_count": 6,
   "id": "5662560c-b89e-4408-8729-fd2968fea77f",
   "metadata": {},
   "outputs": [
    {
     "name": "stdout",
     "output_type": "stream",
     "text": [
      "Rows with locations: 34,682,301\n",
      "CPU times: total: 3.81 s\n",
      "Wall time: 3.85 s\n"
     ]
    }
   ],
   "source": [
    "%%time\n",
    "# Drop rows with no useable location data\n",
    "no_loc = df_311_calls['Zip'].isna() #& df_311['Latitude'].isna()\n",
    "df_311_calls = df_311_calls[~no_loc]\n",
    "print(f'Rows with locations: {len(df_311_calls):,.0f}')"
   ]
  },
  {
   "cell_type": "code",
   "execution_count": 7,
   "id": "b8fa1bdd-7ba2-47dd-9330-972f521e07cb",
   "metadata": {},
   "outputs": [
    {
     "name": "stdout",
     "output_type": "stream",
     "text": [
      "Rows in the date range: 34,435,921\n",
      "CPU times: total: 2min 34s\n",
      "Wall time: 2min 38s\n"
     ]
    }
   ],
   "source": [
    "%%time\n",
    "# Convert date columns to datetime, dropping time component and dropping dates after March 31, 2024\n",
    "date_format = '%m/%d/%Y %I:%M:%S %p'\n",
    "df_311_calls['Date'] = pd.to_datetime(df_311_calls['Date'], format=date_format).values.astype('datetime64[D]')\n",
    "df_311_calls = df_311_calls[df_311_calls['Date'] < pd.Timestamp('2024-04-01')]\n",
    "print(f'Rows in the date range: {len(df_311_calls):,.0f}')"
   ]
  },
  {
   "cell_type": "code",
   "execution_count": 8,
   "id": "7b2e5725-9a62-4f11-8a35-536d447f94d6",
   "metadata": {},
   "outputs": [
    {
     "name": "stdout",
     "output_type": "stream",
     "text": [
      "Rows in NYC: 34,388,549\n",
      "CPU times: total: 25.5 s\n",
      "Wall time: 26.1 s\n"
     ]
    }
   ],
   "source": [
    "%%time\n",
    "# Convert NaN values in 'Incident Zip' to 'empty', to simplify further processing\n",
    "df_311_calls['Zip'] = df_311_calls['Zip'].fillna('empty')\n",
    "df_311_calls.isna().sum()\n",
    "\n",
    "# Clean up ZIP codes by removing '-####' if present\n",
    "df_311_calls['Zip'] = df_311_calls['Zip'].str.replace(r'-\\d{4}$', '', regex=True)\n",
    "\n",
    "# Drop all rows with zip codes not in NYC\n",
    "df_311_calls = df_311_calls[df_311_calls['Zip'].isin(df_zips.index)]\n",
    "print(f'Rows in NYC: {len(df_311_calls):,.0f}')"
   ]
  },
  {
   "cell_type": "code",
   "execution_count": 9,
   "id": "c83f0afb-36d6-4922-ba12-80a6f416b3d5",
   "metadata": {},
   "outputs": [
    {
     "name": "stdout",
     "output_type": "stream",
     "text": [
      "CPU times: total: 22.5 s\n",
      "Wall time: 22.9 s\n"
     ]
    }
   ],
   "source": [
    "%%time\n",
    "# Convert all type and subtype items to titlecase\n",
    "df_311_calls['Type'] = df_311_calls['Type'].str.title()\n",
    "df_311_calls['Descriptor'] = df_311_calls['Descriptor'].str.title()"
   ]
  },
  {
   "cell_type": "code",
   "execution_count": 10,
   "id": "16562956-ba10-4fe9-bd24-4fcddad068a7",
   "metadata": {},
   "outputs": [
    {
     "name": "stdout",
     "output_type": "stream",
     "text": [
      "CPU times: total: 406 ms\n",
      "Wall time: 422 ms\n"
     ]
    }
   ],
   "source": [
    "%%time\n",
    "# Read in NYC weather data, and format\n",
    "df_weather = pd.read_csv('Data/NYC_weather_data.csv')\n",
    "df_weather.drop('Unnamed: 0', axis=1, inplace=True)\n",
    "df_weather['date'] = pd.to_datetime(df_weather['date']).values.astype('datetime64[D]')\n",
    "df_weather.set_index('date',inplace=True)\n",
    "df_weather.drop_duplicates(inplace=True)\n",
    "df_weather = df_weather[df_weather.index < pd.Timestamp('2024-04-01')]"
   ]
  },
  {
   "cell_type": "code",
   "execution_count": 11,
   "id": "5cd2aeb7-3a30-44c1-bee0-f31c6dc9de20",
   "metadata": {},
   "outputs": [
    {
     "name": "stdout",
     "output_type": "stream",
     "text": [
      "CPU times: total: 3.97 s\n",
      "Wall time: 3.99 s\n"
     ]
    }
   ],
   "source": [
    "%%time\n",
    "df_311_calls['Agency'] = df_311_calls['Agency'].astype('category')\n",
    "df_311_calls['Type'] = df_311_calls['Type'].astype('category') "
   ]
  },
  {
   "cell_type": "code",
   "execution_count": 12,
   "id": "33bce8ae-32be-4296-8f2f-36bffd2b9874",
   "metadata": {},
   "outputs": [
    {
     "name": "stdout",
     "output_type": "stream",
     "text": [
      "CPU times: total: 15.7 s\n",
      "Wall time: 18 s\n"
     ]
    }
   ],
   "source": [
    "%%time\n",
    "df_311_calls.to_pickle('Data/311_Calls.pickle')\n",
    "df_zips.to_pickle('Data/NYC_Zips.pickle')\n",
    "df_weather.to_pickle('Data/NYC_Weather.pickle')"
   ]
  }
 ],
 "metadata": {
  "kernelspec": {
   "display_name": "Python 3 (ipykernel)",
   "language": "python",
   "name": "python3"
  },
  "language_info": {
   "codemirror_mode": {
    "name": "ipython",
    "version": 3
   },
   "file_extension": ".py",
   "mimetype": "text/x-python",
   "name": "python",
   "nbconvert_exporter": "python",
   "pygments_lexer": "ipython3",
   "version": "3.12.3"
  }
 },
 "nbformat": 4,
 "nbformat_minor": 5
}

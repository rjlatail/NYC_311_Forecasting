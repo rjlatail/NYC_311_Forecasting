{
 "cells": [
  {
   "cell_type": "markdown",
   "id": "24ad1f4d-a8cf-404e-8b03-ce8003af393c",
   "metadata": {},
   "source": [
    "# Forecasting Usage of New York City's 311 Service  \n",
    "New York City maintains an information and reporting service for city residents that permit them to source information from and report problems to City Government with greater ease.  While the service is an important enhancement to resident life, it imposes an administrative burden on the City as it must receive the requests and reports and refer them to the correct City agency.  A model that can accurately forecast usage of the service would allow the City to serve residents more efficiently.  \n",
    "<br>\n",
    "This analysis will search for a model with stronger predictive power than a baseline model.  Potential models will include:\n",
    "- ARIMA of varying orders\n",
    "- SARIMA (ARIMA with seasonality) of varying orders\n",
    "- SARIMAX (SARIMA with exogenous variables) with various regressors\n",
    "- Prophet, a newer and more flexible model with better handling of seasonality\n",
    "- GARCH and GARCH-X, if heteroskedasticity is an issue\n",
    "- Neural networks (LSTM)"
   ]
  },
  {
   "cell_type": "code",
   "execution_count": 1,
   "id": "fb5dd902-8e23-4b25-9dc0-6df7fe5fc725",
   "metadata": {},
   "outputs": [],
   "source": [
    "# Import packages\n",
    "\n",
    "import time\n",
    "import gc\n",
    "import itertools\n",
    "import pandas as pd\n",
    "import numpy as np\n",
    "import matplotlib.pyplot as plt\n",
    "import seaborn as sns\n",
    "import logging\n",
    "from dask import delayed, compute\n",
    "from dask.distributed import Client\n",
    "\n",
    "# Models\n",
    "from arch import arch_model\n",
    "import pmdarima as pm\n",
    "from prophet import Prophet\n",
    "from prophet.make_holidays import make_holidays_df\n",
    "from scipy.stats import boxcox\n",
    "from sklearn.preprocessing import StandardScaler, MinMaxScaler\n",
    "from sklearn.metrics import mean_absolute_error, mean_absolute_percentage_error, mean_squared_error, root_mean_squared_error\n",
    "from sklearn.model_selection import TimeSeriesSplit\n",
    "import statsmodels.api as sm\n",
    "from statsmodels.graphics.tsaplots import plot_acf, plot_pacf\n",
    "from statsmodels.tsa.stattools import adfuller\n",
    "from statsmodels.tsa.seasonal import seasonal_decompose, STL\n",
    "from statsmodels.tsa.arima.model import ARIMA\n",
    "from statsmodels.tsa.statespace.sarimax import SARIMAX\n",
    "from tensorflow.keras.models import Sequential\n",
    "from tensorflow.keras.layers import Bidirectional, Conv1D, Dense, Dropout, Flatten, GRU, Input, LSTM, MaxPooling1D \n",
    "from tensorflow.keras.optimizers import Adam\n",
    "from tensorflow.keras.callbacks import EarlyStopping\n",
    "from tensorflow.keras.regularizers import l2"
   ]
  },
  {
   "cell_type": "code",
   "execution_count": 2,
   "id": "db39fca3-d3fe-4f6c-8c0d-d4300a99c21e",
   "metadata": {},
   "outputs": [],
   "source": [
    "# Set display options\n",
    "pd.set_option('display.max_rows', None)\n",
    "pd.set_option('display.max_info_columns', 100)\n",
    "pd.set_option('display.max_info_rows', 100)"
   ]
  },
  {
   "cell_type": "markdown",
   "id": "2cf1e93a-934a-4f92-8300-473c50b6d1b9",
   "metadata": {},
   "source": [
    "## Data Preparation\n",
    "The data sources are:  \n",
    "- NYC OpenData's 311 call database, which includes calls dating from January 1, 2010\n",
    "- Daily weather for New York City, retrieved from OpenMeteo's API"
   ]
  },
  {
   "cell_type": "markdown",
   "id": "a372d7e6-cecf-4913-8ff9-45f9a0bc43fd",
   "metadata": {},
   "source": [
    "The '311_Service_Requests' file is over 20 gigabytes.  To improve loading time, this command only imports relevant features and specifies dtypes for each field."
   ]
  },
  {
   "cell_type": "code",
   "execution_count": 3,
   "id": "5bb0861d-8e84-47d4-993f-5da38003141d",
   "metadata": {},
   "outputs": [
    {
     "name": "stdout",
     "output_type": "stream",
     "text": [
      "CPU times: total: 47.1 s\n",
      "Wall time: 1min 4s\n"
     ]
    }
   ],
   "source": [
    "%%time\n",
    "# Read in 311 data\n",
    "\n",
    "df_311_calls  = pd.read_csv('Data/311_Service_Requests_20240430.csv',\n",
    "                            index_col='Unique Key',\n",
    "                            usecols = ['Agency','Borough','Complaint Type','Created Date','Incident Zip','Unique Key'],\n",
    "                            dtype = {'Agency':'category','Borough':'category','Complaint Type':str,'Created Date':str,'Incident Zip':str,'Unique Key':'int64'})\n",
    "\n",
    "df_311_calls = df_311_calls.rename(columns={'Complaint Type': 'Type', 'Created Date': 'Date', 'Incident Zip': 'Zip'})"
   ]
  },
  {
   "cell_type": "code",
   "execution_count": null,
   "id": "ed092eba-3d54-4264-88fc-e382a47eb3e8",
   "metadata": {},
   "outputs": [],
   "source": [
    "# Initialize Dask client\n",
    "client = Client() #'tcp://192.168.4.94:8786')"
   ]
  },
  {
   "cell_type": "code",
   "execution_count": 7,
   "id": "78002f03-e332-4dab-b1b1-f20914f781fb",
   "metadata": {},
   "outputs": [],
   "source": [
    "# Read in NYC zip codes\n",
    "\n",
    "df_zips = pd.read_csv('Data/uszips/uszips.csv',\n",
    "                     index_col = 'zip',\n",
    "                     dtype = {'borough': str, 'zip': str} )"
   ]
  },
  {
   "cell_type": "code",
   "execution_count": null,
   "id": "08e0da85-b1a7-457a-9bc6-eff062d5150a",
   "metadata": {},
   "outputs": [],
   "source": [
    "# Load shapefile of zip codes\n",
    "#filtered_shapefile_path = 'Data/USA_ZIP_Code_Boundaries/filtered_zip_code_shapefile.shp'\n",
    "#filtered_zip_codes_gdf = gpd.read_file(filtered_shapefile_path)"
   ]
  },
  {
   "cell_type": "markdown",
   "id": "5b6afbdc-ad96-45e1-acd5-88abe146e39b",
   "metadata": {},
   "source": [
    "##### Drop unusable rows"
   ]
  },
  {
   "cell_type": "code",
   "execution_count": 4,
   "id": "36b593b9-8a0b-4db0-a96b-86f40124a0db",
   "metadata": {},
   "outputs": [
    {
     "name": "stdout",
     "output_type": "stream",
     "text": [
      "Initial items: 36,217,243\n"
     ]
    }
   ],
   "source": [
    "print(f'Initial items: {len(df_311_calls):,.0f}')"
   ]
  },
  {
   "cell_type": "code",
   "execution_count": 5,
   "id": "7d242d29-3e35-4b6b-bac1-a4683254c830",
   "metadata": {},
   "outputs": [
    {
     "name": "stdout",
     "output_type": "stream",
     "text": [
      "Rows with locations: 34,682,301\n"
     ]
    }
   ],
   "source": [
    "# Drop rows with no useable location data\n",
    "no_loc = df_311_calls['Zip'].isna() #& df_311['Latitude'].isna()\n",
    "df_311_calls = df_311_calls[~no_loc]\n",
    "print(f'Rows with locations: {len(df_311_calls):,.0f}')"
   ]
  },
  {
   "cell_type": "code",
   "execution_count": 6,
   "id": "7b3873ac-a68a-482e-80de-df118c1b60c2",
   "metadata": {},
   "outputs": [
    {
     "name": "stdout",
     "output_type": "stream",
     "text": [
      "Rows in the date range: 34,435,921\n",
      "CPU times: total: 43.9 s\n",
      "Wall time: 55.6 s\n"
     ]
    }
   ],
   "source": [
    "%%time\n",
    "# Convert date columns to datetime, dropping time component and dropping dates after March 31, 2024\n",
    "date_format = '%m/%d/%Y %I:%M:%S %p'\n",
    "df_311_calls['Date'] = pd.to_datetime(df_311_calls['Date'], format=date_format).values.astype('datetime64[D]')\n",
    "df_311_calls = df_311_calls[df_311_calls['Date'] < pd.Timestamp('2024-04-01')]\n",
    "print(f'Rows in the date range: {len(df_311_calls):,.0f}')"
   ]
  },
  {
   "cell_type": "code",
   "execution_count": 8,
   "id": "a7f6da64-601d-4bed-a595-204de3e671a9",
   "metadata": {},
   "outputs": [
    {
     "name": "stdout",
     "output_type": "stream",
     "text": [
      "Rows in NYC: 34,388,549\n"
     ]
    }
   ],
   "source": [
    "# Convert NaN values in 'Incident Zip' to 'empty', to simplify further processing\n",
    "df_311_calls['Zip'] = df_311_calls['Zip'].fillna('empty')\n",
    "df_311_calls.isna().sum()\n",
    "\n",
    "# Clean up ZIP codes by removing '-####' if present\n",
    "df_311_calls['Zip'] = df_311_calls['Zip'].str.replace(r'-\\d{4}$', '', regex=True)\n",
    "\n",
    "# Drop all rows with zip codes not in NYC\n",
    "df_311_calls = df_311_calls[df_311_calls['Zip'].isin(df_zips.index)]\n",
    "print(f'Rows in NYC: {len(df_311_calls):,.0f}')"
   ]
  },
  {
   "cell_type": "code",
   "execution_count": 9,
   "id": "b60ec81d-5ab3-43aa-b6cf-5ecaef8b1e3a",
   "metadata": {
    "jupyter": {
     "source_hidden": true
    }
   },
   "outputs": [],
   "source": [
    "# Fill in latitude and longitude when a zip code is available\n",
    "\n",
    "# Latitude and longitude from US Zip Code file\n",
    "#zip_to_lat = df_zip['lat'].to_dict()\n",
    "#zip_to_lng = df_zip['lng'].to_dict()\n",
    "\n",
    "# Fill in missing latitude and longitude using the mapping, but only if values don't already exist\n",
    "#df_311.loc[df_311['Latitude'].isna(), 'Latitude'] = df_311['Zip'].map(zip_to_lat)\n",
    "#df_311.loc[df_311['Longitude'].isna(), 'Longitude'] = df_311['Zip'].map(zip_to_lng)"
   ]
  },
  {
   "cell_type": "markdown",
   "id": "3679445b-5431-4a9f-a044-f2c077442140",
   "metadata": {},
   "source": [
    "##### Consolidate Agencies and Types"
   ]
  },
  {
   "cell_type": "code",
   "execution_count": 10,
   "id": "aa76e2b7-af16-4110-88f3-96858a321952",
   "metadata": {},
   "outputs": [],
   "source": [
    "# Consolidate agencies, replacing minor agencies with 'Other'\n",
    "agency_dict = {\n",
    "    'NYPD': 'Police',\n",
    "    'HPD': 'Housing',\n",
    "    'DSNY': 'Sanitation',\n",
    "    'DOT': 'Transportation',\n",
    "    'DEP': 'Environment',\n",
    "    'DOB': 'Buildings',\n",
    "    'DPR': 'Parks',\n",
    "    'DOMHM': 'Health',\n",
    "    'DOF': 'Finance',\n",
    "    'TLC': 'Taxi',\n",
    "    'DHS': 'Homeless',\n",
    "    'DCA': 'Consumer',\n",
    "    'DEPARTMENT OF CONSUMER AND WORKER PROTECTION': 'Consumer',\n",
    "    'EDC': 'Development',\n",
    "    'HRA': 'Human Resources',\n",
    "    'DFTA': 'Aging',\n",
    "    'OSE': 'ST Rentals',\n",
    "}\n",
    "\n",
    "df_311_calls['Agency'] = df_311_calls['Agency'].map(agency_dict).fillna('Other')"
   ]
  },
  {
   "cell_type": "code",
   "execution_count": 11,
   "id": "b1e62533-28cd-4870-9bd9-fefb990b2c07",
   "metadata": {},
   "outputs": [],
   "source": [
    "# Convert all line items to lowercase\n",
    "df_311_calls['Type'] = df_311_calls['Type'].str.lower()"
   ]
  },
  {
   "cell_type": "code",
   "execution_count": 12,
   "id": "06a95b0f-6545-4bc6-9876-c6483bb304d0",
   "metadata": {
    "jupyter": {
     "source_hidden": true
    }
   },
   "outputs": [],
   "source": [
    "# Convert complaint types to fewer categories\n",
    "complaint_dict = {\n",
    "    'noise - residential': 'Noise',\n",
    "    'illegal parking': 'Vehicle',\n",
    "    'heat/hot water': 'Resident Utility',\n",
    "    'blocked driveway': 'Vehicle',\n",
    "    'street condition': 'Street Condition',\n",
    "    'noise - street/sidewalk': 'Noise',\n",
    "    'street light condition': 'Traffic Device',\n",
    "    'request large bulky item collection': 'Item Pickup',\n",
    "    'plumbing': 'Resident Utility',\n",
    "    'heating': 'Resident Utility',\n",
    "    'water system': 'Resident Utility',\n",
    "    'unsanitary condition': 'Sanitation',\n",
    "    'noise': 'Noise',\n",
    "    'general construction/plumbing': 'Resident Utility',\n",
    "    'traffic signal condition': 'Traffic Device',\n",
    "    'noise - commercial': 'Noise',\n",
    "    'paint/plaster': 'Buildings',\n",
    "    'noise - vehicle': 'Noise',\n",
    "    'general construction': 'Construction',\n",
    "    'sewer': 'Sewer',\n",
    "    'damaged tree': 'Tree',\n",
    "    'rodent': 'Sanitation',\n",
    "    'dirty conditions': 'Sanitation',\n",
    "    'electric': 'Resident Utility',\n",
    "    'derelict vehicles': 'Vehicle',\n",
    "    'sanitation condition': 'Sanitation',\n",
    "    'door/window': 'Buildings',\n",
    "    'paint - plaster': 'Buildings',\n",
    "    'sidewalk condition': 'Street Condition',\n",
    "    'water leak': 'Resident Utility',\n",
    "    'building/use': 'Buildings',\n",
    "    'missed collection (all materials)': 'Sanitation',\n",
    "    'literature request': 'Other',\n",
    "    'consumer complaint': 'Consumer',\n",
    "    'general': 'Other',\n",
    "    'homeless person assistance': 'Social Services',\n",
    "    'nonconst': 'Other',\n",
    "    'abandoned vehicle': 'Vehicle',\n",
    "    'new tree request': 'Tree',\n",
    "    'flooring/stairs': 'Buildings',\n",
    "    'graffiti': 'Quality of Life',\n",
    "    'overgrown tree/branches': 'Tree',\n",
    "    'non-emergency police matter': 'Police',\n",
    "    'derelict vehicle': 'Vehicle',\n",
    "    'maintenance or facility': 'Other',\n",
    "    'taxi complaint': 'Taxi',\n",
    "    'appliance': 'Buildings',\n",
    "    'elevator': 'Buildings',\n",
    "    'broken muni meter': 'Parking',\n",
    "    'missed collection': 'Sanitation',\n",
    "    'noise - helicopter': 'Noise',\n",
    "    'root/sewer/sidewalk condition': 'Street Condition',\n",
    "    'food establishment': 'Vendors',\n",
    "    'for hire vehicle complaint': 'Taxi',\n",
    "    'dirty condition': 'Sanitation',\n",
    "    'air quality': 'Environmental',\n",
    "    'benefit card replacement': 'Social Services',\n",
    "    'encampment': 'Social Services',\n",
    "    'dof property - reduction issue': 'Finance',\n",
    "    'lead': 'Public Health',\n",
    "    'safety': 'Other',\n",
    "    'street sign - damaged': 'Traffic Device',\n",
    "    'illegal fireworks': 'Quality of Life',\n",
    "    'snow': 'Snow',\n",
    "    'electronics waste appointment': 'Item Pickup',\n",
    "    'scrie': 'Housing',\n",
    "    'dead/dying tree': 'Tree',\n",
    "    'illegal dumping': 'Sanitation',\n",
    "    'broken parking meter': 'Parking',\n",
    "    'other enforcement': 'Police',\n",
    "    'dof parking - payment issue': 'Finance',\n",
    "    'indoor air quality': 'Buildings',\n",
    "    'noise - park': 'Noise',\n",
    "    'curb condition': 'Street Condition',\n",
    "    'street sign - missing': 'Traffic Device',\n",
    "    'noncompliance with phased reopening': 'Public Health',\n",
    "    'dof property - owner issue': 'Finance',\n",
    "    'traffic': 'Traffic Device',\n",
    "    'dof property - request copy': 'Finance',\n",
    "    'highway condition': 'Street Condition',\n",
    "    'dead tree': 'Tree',\n",
    "    'emergency response team (ert)': 'Buildings',\n",
    "    'special projects inspection team (spit)': 'Construction',\n",
    "    'water conservation': 'Parks and Rec',\n",
    "    'dof property - payment issue': 'Finance',\n",
    "    'hpd literature request': 'Housing',\n",
    "    'animal abuse': 'Animal',\n",
    "    'housing - low income senior': 'Housing',\n",
    "    'drug activity': 'Police',\n",
    "    'vending': 'Quality of Life',\n",
    "    'electrical': 'Resident Utility',\n",
    "    'illegal tree damage': 'Tree',\n",
    "    'dhs advantage - tenant': 'Housing',\n",
    "    'food poisoning': 'Public Health',\n",
    "    'street sign - dangling': 'Traffic Device',\n",
    "    'violation of park rules': 'Parks and Rec',\n",
    "    'homeless encampment': 'Social Services',\n",
    "    'smoking': 'Public Health',\n",
    "    'animal-abuse': 'Animal',\n",
    "    'animal in a park': 'Animal',\n",
    "    'hazardous materials': 'Environmental',\n",
    "    'obstruction': 'Vehicle',\n",
    "    'construction': 'Construction',\n",
    "    'lost property': 'Other',\n",
    "    'litter basket / request': 'Sanitation',\n",
    "    'boilers': 'Resident Utility',\n",
    "    'construction safety enforcement': 'Construction',\n",
    "    'dhs advantage -landlord/broker': 'Housing',\n",
    "    'unsanitary animal pvt property': 'Animal',\n",
    "    'drinking': 'Social Services',\n",
    "    'residential disposal complaint': 'Sanitation',\n",
    "    'standing water': 'Environmental',\n",
    "    'electronics waste': 'Item Pickup',\n",
    "    'panhandling': 'Social Services',\n",
    "    'dca / doh new license application request': 'Vendors',\n",
    "    'asbestos': 'Buildings',\n",
    "    'dead animal': 'Animal',\n",
    "    'dof property - update account': 'Finance',\n",
    "    'outdoor dining': 'Vendors',\n",
    "    'best/site safety': 'Construction',\n",
    "    'street sweeping complaint': 'Street Condition',\n",
    "    'water quality': 'Resident Utility',\n",
    "    'vendor enforcement': 'Vendors',\n",
    "    'real time enforcement': 'Buildings',\n",
    "    'housing options': 'Housing',\n",
    "    'bus stop shelter complaint': 'Social Services',\n",
    "    'industrial waste': 'Environmental',\n",
    "    'bike/roller/skate chronic': 'Quality of Life',\n",
    "    'mobile food vendor': 'Vendors',\n",
    "    'overflowing litter baskets': 'Sanitation',\n",
    "    'derelict bicycle': 'Vehicle',\n",
    "    'noise survey': 'Noise',\n",
    "    'non-residential heat': 'Buildings',\n",
    "    'miscellaneous categories': 'Other',\n",
    "    'homeless street condition': 'Social Services',\n",
    "    'noise - house of worship': 'Noise',\n",
    "    'taxi report': 'Taxi',\n",
    "    'traffic/illegal parking': 'Vehicle',\n",
    "    'unleashed dog': 'Animal',\n",
    "    'indoor sewage': 'Resident Utility',\n",
    "    'outside building': 'Other',\n",
    "    'snow or ice': 'Snow',\n",
    "    'dof parking - request status': 'Finance',\n",
    "    'unsanitary pigeon condition': 'Animal',\n",
    "    'sweeping/missed': 'Street Condition',\n",
    "    'dof parking - request copy': 'Finance',\n",
    "    'recycling enforcement': 'Sanitation',\n",
    "    'dpr internal': 'Parks and Rec',\n",
    "    'urinating in public': 'Social Services',\n",
    "    'litter basket request': 'Sanitation',\n",
    "    'day care': 'Social Services',\n",
    "    'illegal posting': 'Quality of Life',\n",
    "    'borough office': 'Other',\n",
    "    'sanitation worker or vehicle complaint': 'Sanitation',\n",
    "    'vaccine mandate non-compliance': 'Public Health',\n",
    "    'covid-19 non-essential construction': 'Construction',\n",
    "    'building marshals office': 'Buildings',\n",
    "    'commercial disposal complaint': 'Sanitation',\n",
    "    'dof parking - tax exemption': 'Finance',\n",
    "    'bridge condition': 'Street Condition',\n",
    "    'sustainability enforcement': 'Sanitation',\n",
    "    'taxi compliment': 'Taxi',\n",
    "    'elder abuse': 'Social Services',\n",
    "    'sweeping/missed-inadequate': 'Street Condition',\n",
    "    'disorderly youth': 'Social Services',\n",
    "    'abandoned bike': 'Vehicle',\n",
    "    'mold': 'Buildings',\n",
    "    'dumpster complaint': 'Sanitation',\n",
    "    'illegal animal kept as pet': 'Animal',\n",
    "    'mosquitoes': 'Environmental',\n",
    "    'for hire vehicle report': 'Taxi',\n",
    "    'drie': 'Housing',\n",
    "    'found property': 'Other',\n",
    "    'home delivered meal - missed delivery': 'Social Services',\n",
    "    'litter basket complaint': 'Sanitation',\n",
    "    'construction lead dust': 'Environmental',\n",
    "    'mass gathering complaint': 'Quality of Life',\n",
    "    'cranes and derricks': 'Construction',\n",
    "    'dof property - rpie issue': 'Finance',\n",
    "    'posting advertisement': 'Quality of Life',\n",
    "    'home repair': 'Buildings',\n",
    "    'harboring bees/wasps': 'Animal',\n",
    "    'scaffold safety': 'Construction',\n",
    "    'adopt-a-basket': 'Sanitation',\n",
    "    'senior center complaint': 'Social Services',\n",
    "    'plant': 'Other',\n",
    "    'window guard': 'Buildings',\n",
    "    'sewer maintenance': 'Sewer',\n",
    "    'snow removal': 'Snow',\n",
    "    'sweeping/inadequate': 'Street Condition',\n",
    "    \"alzheimer's care\": 'Social Services',\n",
    "    'beach/pool/sauna complaint': 'Parks and Rec',\n",
    "    'city vehicle placard complaint': 'Other',\n",
    "    'drinking water': 'Resident Utility',\n",
    "    'collection truck noise': 'Sanitation',\n",
    "    'question': 'Other',\n",
    "    'facades': 'Buildings',\n",
    "    'private or charter school reopening': 'Public Health',\n",
    "    'dof property - property value': 'Finance',\n",
    "    'dof parking - dmv clearance': 'Finance',\n",
    "    'request xmas tree collection': 'Item Pickup',\n",
    "    'poison ivy': 'Environmental',\n",
    "    'oem disabled vehicle': 'Vehicle',\n",
    "    'uprooted stump': 'Tree',\n",
    "    'wood pile remaining': 'Construction',\n",
    "    'face covering violation': 'Public Health',\n",
    "    'tattooing': 'Other',\n",
    "    'heap assistance': 'Resident Utility',\n",
    "    'highway sign - damaged': 'Traffic Device',\n",
    "    'quality of life': 'Quality of Life',\n",
    "    'utility program': 'Resident Utility',\n",
    "    'executive inspections': 'Buildings',\n",
    "    'forms': 'Other',\n",
    "    'dhs advantage - third party': 'Public Health',\n",
    "    'unsanitary animal facility': 'Vendors',\n",
    "    'green taxi complaint': 'Taxi',\n",
    "    'dof property - city rebate': 'Finance',\n",
    "    'forensic engineering': 'Buildings',\n",
    "    'weatherization': 'Buildings',\n",
    "    'pet shop': 'Vendors',\n",
    "    'animal facility - no permit': 'Vendors',\n",
    "    'special natural area district (snad)': 'Parks and Rec',\n",
    "    'municipal parking facility': 'Parking',\n",
    "    'home delivered meal complaint': 'Social Services',\n",
    "    'illegal animal sold': 'Animal',\n",
    "    'seasonal collection': 'Item Pickup',\n",
    "    'dep street condition': 'Street Condition',\n",
    "    'stalled sites': 'Other',\n",
    "    'advocate-personal exemptions': 'Finance',\n",
    "    'highway sign - missing': 'Traffic Device',\n",
    "    'ahv inspection unit': 'Vendors',\n",
    "    'e-scooter': 'Quality of Life',\n",
    "    'public toilet': 'Parks and Rec',\n",
    "    'eviction': 'Housing',\n",
    "    'fatf': 'Finance',\n",
    "    'dof parking - address update': 'Parking',\n",
    "    'advocate-prop refunds/credits': 'Finance',\n",
    "    'water maintenance': 'Resident Utility',\n",
    "    'highway sign - dangling': 'Traffic Device',\n",
    "    'parking card': 'Parking',\n",
    "    'taxpayer advocate inquiry': 'Finance',\n",
    "    'summer camp': 'Parks and Rec',\n",
    "    'special operations': 'Quality of Life',\n",
    "    'incorrect data': 'Other',\n",
    "    'bereavement support group': 'Social Services',\n",
    "    'advocate - other': 'Social Services',\n",
    "    'lifeguard': 'Parks and Rec',\n",
    "    'squeegee': 'Quality of Life',\n",
    "    'x-ray machine/equipment': 'Other',\n",
    "    'home care provider complaint': 'Social Services',\n",
    "    'case management agency complaint': 'Social Services',\n",
    "    'atf': 'Police',\n",
    "    'private school vaccine mandate non-compliance': 'Public Health',\n",
    "    'overflowing recycling baskets': 'Sanitation',\n",
    "    'comments': 'Other',\n",
    "    'cooling tower': 'Buildings',\n",
    "    'recycling basket complaint': 'Sanitation',\n",
    "    'calorie labeling': 'Vendors',\n",
    "    'legal services provider complaint': 'Social Services',\n",
    "    'health': 'Public Health',\n",
    "    'radioactive material': 'Environmental',\n",
    "    'dhs income savings requirement': 'Housing',\n",
    "    'institution disposal complaint': 'Sanitation',\n",
    "    'water drainage': 'Environmental',\n",
    "    'green taxi report': 'Taxi',\n",
    "    'peeling paint': 'Buildings',\n",
    "    'tunnel condition': 'Street Condition',\n",
    "    'building drinking water tank': 'Buildings',\n",
    "}    "
   ]
  },
  {
   "cell_type": "code",
   "execution_count": 13,
   "id": "f3f074bc-1870-4de5-9dbc-962141882072",
   "metadata": {},
   "outputs": [],
   "source": [
    "df_311_calls['Type'] = df_311_calls['Type'].map(complaint_dict).fillna('Other')"
   ]
  },
  {
   "cell_type": "markdown",
   "id": "2e7db729-298d-45be-952c-7685e3b8a973",
   "metadata": {},
   "source": [
    "#### Visualize Distributions"
   ]
  },
  {
   "cell_type": "code",
   "execution_count": 14,
   "id": "026510dd-e135-4021-a14f-b96b787b46ab",
   "metadata": {},
   "outputs": [],
   "source": [
    "# Clean Borough values for charting\n",
    "df_311_calls['Borough'] = df_311_calls['Borough'].str.title()"
   ]
  },
  {
   "cell_type": "code",
   "execution_count": 15,
   "id": "b934b2c2-447c-42a4-b609-256972b5a8cb",
   "metadata": {},
   "outputs": [
    {
     "data": {
      "image/png": "[encoded data removed]",
      "text/plain": [
       "<Figure size 1200x800 with 4 Axes>"
      ]
     },
     "metadata": {},
     "output_type": "display_data"
    }
   ],
   "source": [
    "# Visualize call data\n",
    "fig, ((ax1, ax2), (ax3, ax4)) = plt.subplots(2, 2, figsize = (12,8))\n",
    "fig.suptitle('Call Distribution and Daily Frequency')\n",
    "ax1.barh(y = df_311_calls['Agency'].value_counts().sort_values(ascending=True).index[1:], width = df_311_calls['Agency'].value_counts().sort_values(ascending=True)[1:], color='purple')\n",
    "ax1.set_xticks([0,2000000,4000000,6000000,8000000,10000000])\n",
    "ax1.set_xticklabels(['-','2mm','4mm','6mm','8mm','10mm'])\n",
    "ax1.set_ylabel('Agency')\n",
    "ax2.plot(df_311_calls['Date'].value_counts().sort_index(), linewidth=0.5, color='purple')\n",
    "ax2.set_yticks([0,5000,10000,15000,20000])\n",
    "ax2.set_yticklabels(['-','5,000','10,000','15,000','20,000'])\n",
    "ax2.set_ylabel('Calls per Day')\n",
    "ax3.barh(y= df_311_calls['Type'].value_counts().sort_values(ascending=True).index[2:], width = df_311_calls['Type'].value_counts().sort_values(ascending=True)[2:], color='purple')\n",
    "ax3.tick_params(axis='y', labelsize=8)\n",
    "ax3.set_xticks([0,1000000,2000000,3000000,4000000,5000000,6000000])\n",
    "ax3.set_xticklabels(['-','1mm','2mm','3mm','4mm','5mm','6mm'])\n",
    "ax3.set_ylabel('Complaint Type')\n",
    "ax4.bar(x=df_311_calls['Borough'].value_counts().sort_values(ascending=False)[:-1].index, height=df_311_calls['Borough'].value_counts().sort_values(ascending=False)[:-1], color='purple')\n",
    "ax4.set_yticks([0,2000000,4000000,6000000,8000000,10000000])\n",
    "ax4.set_yticklabels(['-','2mm','4mm','6mm','8mm','10mm'])\n",
    "ax4.set_ylabel('Total Calls')\n",
    "plt.tight_layout(pad=2.0)\n",
    "plt.show()"
   ]
  },
  {
   "cell_type": "markdown",
   "id": "93795c2c-433e-4f58-a9f0-d7e122cb51bd",
   "metadata": {},
   "source": [
    "### Weather"
   ]
  },
  {
   "cell_type": "code",
   "execution_count": 16,
   "id": "3e91e1b1-0d42-44d7-ba99-766c8aaa1cce",
   "metadata": {},
   "outputs": [
    {
     "name": "stdout",
     "output_type": "stream",
     "text": [
      "<class 'pandas.core.frame.DataFrame'>\n",
      "DatetimeIndex: 5204 entries, 2010-01-01 to 2024-03-31\n",
      "Data columns (total 7 columns):\n",
      " #   Column               Dtype  \n",
      "---  ------               -----  \n",
      " 0   temperature_2m_max   float64\n",
      " 1   temperature_2m_min   float64\n",
      " 2   temperature_2m_mean  float64\n",
      " 3   daylight_duration    float64\n",
      " 4   rain_sum             float64\n",
      " 5   snowfall_sum         float64\n",
      " 6   wind_speed_10m_max   float64\n",
      "dtypes: float64(7)\n",
      "memory usage: 325.2 KB\n"
     ]
    }
   ],
   "source": [
    "# Read in NYC weather data, and format\n",
    "df_weather = pd.read_csv('Data/NYC_weather_data.csv')\n",
    "df_weather.drop('Unnamed: 0', axis=1, inplace=True)\n",
    "df_weather['date'] = pd.to_datetime(df_weather['date']).values.astype('datetime64[D]')\n",
    "df_weather.set_index('date',inplace=True)\n",
    "df_weather.drop_duplicates(inplace=True)\n",
    "df_weather = df_weather[df_weather.index < pd.Timestamp('2024-04-01')]\n",
    "df_weather.info()"
   ]
  },
  {
   "cell_type": "markdown",
   "id": "cc18d39b-f3ec-48a7-acdc-c2feb26365ef",
   "metadata": {},
   "source": [
    "#### Visualize"
   ]
  },
  {
   "cell_type": "code",
   "execution_count": 17,
   "id": "22467914-25c1-4435-bd3c-33c498ad50e7",
   "metadata": {
    "jupyter": {
     "source_hidden": true
    }
   },
   "outputs": [
    {
     "data": {
      "image/png": "[encoded data removed]",
      "text/plain": [
       "<Figure size 1200x600 with 8 Axes>"
      ]
     },
     "metadata": {},
     "output_type": "display_data"
    }
   ],
   "source": [
    "# Visualize weather data\n",
    "fig, ((ax1, ax2, ax3, ax4), (ax5, ax6, ax7, ax8)) = plt.subplots(2, 4, figsize=(12,6))\n",
    "fig.suptitle('Weather Histograms')\n",
    "ax1.hist(df_weather['temperature_2m_max'].value_counts().index, bins=100)\n",
    "ax1.set_xlabel('Max Daily Temp (F)')\n",
    "ax2.hist(df_weather['temperature_2m_min'].value_counts().index, bins=100)\n",
    "ax2.set_xlabel('Min Daily Temp (F)')\n",
    "ax3.hist(df_weather['temperature_2m_mean'].value_counts().index, bins=100)\n",
    "ax3.set_xlabel('Avg Daily Temp (F)')\n",
    "ax4.hist(df_weather['daylight_duration'].value_counts().index, bins=100)\n",
    "ax4.set_xlabel('Daylight Duration (seconds)')\n",
    "ax5.hist(df_weather['rain_sum'].value_counts().index, bins=100)\n",
    "ax5.set_xlabel('Rainfall (inches)')\n",
    "ax6.hist(df_weather['snowfall_sum'].value_counts().index, bins=100)\n",
    "ax6.set_xlabel('Snowfall (inches)')\n",
    "ax7.hist(df_weather['wind_speed_10m_max'].value_counts().index, bins=100)\n",
    "ax7.set_xlabel('Wind Speed (mph)')\n",
    "ax8.axis('off')\n",
    "plt.tight_layout(pad=2.0)\n",
    "plt.show;"
   ]
  },
  {
   "cell_type": "markdown",
   "id": "14034a8a-3531-4aa0-b48f-3268f55f841f",
   "metadata": {},
   "source": [
    "#### Scaling\n",
    "- Rainfall, snowfall and wind speed: Box-Cox transformation, addresses right-skewed distributions\n",
    "- Temperatures - Temperatures are normally distributed when holding seasonality constant.  Seasonal decompose first, then standard scale, then seasonal recompose\n",
    "- Daylight Duration - Minmax scaling"
   ]
  },
  {
   "cell_type": "code",
   "execution_count": 18,
   "id": "855f72b5-d7a8-4050-a9b8-0748a4c10b39",
   "metadata": {},
   "outputs": [],
   "source": [
    "# Scaling functions for weather data\n",
    "\n",
    "# log transform with a small constant\n",
    "def log_transform(series, constant=1e-6):\n",
    "    return np.log(series + constant)\n",
    "\n",
    "# Helper function to apply Box-Cox transformation\n",
    "def boxcox_transform(series):\n",
    "    series_nonzero = series + 1e-6  # Add small constant to avoid zero values\n",
    "    transformed_data, _ = boxcox(series_nonzero)\n",
    "    return pd.Series(transformed_data, index=series.index)\n",
    "\n",
    "# Seasonal decompose and recompose function\n",
    "def decompose_and_scale(series, period=365):\n",
    "    series = series.dropna()  # Drop NaNs if any\n",
    "    decomposition = seasonal_decompose(series, model='additive', period=period)\n",
    "    seasonal = decomposition.seasonal\n",
    "    adjusted_series = series - seasonal  # Adjust the original series by removing the seasonal component\n",
    "\n",
    "    scaler = StandardScaler()\n",
    "    scaled_series = scaler.fit_transform(adjusted_series.values.reshape(-1, 1))\n",
    "\n",
    "    scaled_series_full = pd.Series(scaled_series.flatten(), index=adjusted_series.index)\n",
    "    scaled_series_full = scaled_series_full.reindex(series.index).bfill().ffill()\n",
    "\n",
    "    return scaled_series_full\n"
   ]
  },
  {
   "cell_type": "code",
   "execution_count": 19,
   "id": "af545b95-67ea-47dd-9858-8cd319f49921",
   "metadata": {},
   "outputs": [
    {
     "data": {
      "text/html": [
       "<div>\n",
       "<style scoped>\n",
       "    .dataframe tbody tr th:only-of-type {\n",
       "        vertical-align: middle;\n",
       "    }\n",
       "\n",
       "    .dataframe tbody tr th {\n",
       "        vertical-align: top;\n",
       "    }\n",
       "\n",
       "    .dataframe thead th {\n",
       "        text-align: right;\n",
       "    }\n",
       "</style>\n",
       "<table border=\"1\" class=\"dataframe\">\n",
       "  <thead>\n",
       "    <tr style=\"text-align: right;\">\n",
       "      <th></th>\n",
       "      <th>temperature_2m_max</th>\n",
       "      <th>temperature_2m_min</th>\n",
       "      <th>temperature_2m_mean</th>\n",
       "      <th>daylight_duration</th>\n",
       "      <th>rain_sum</th>\n",
       "      <th>snowfall_sum</th>\n",
       "      <th>wind_speed_10m_max</th>\n",
       "    </tr>\n",
       "    <tr>\n",
       "      <th>date</th>\n",
       "      <th></th>\n",
       "      <th></th>\n",
       "      <th></th>\n",
       "      <th></th>\n",
       "      <th></th>\n",
       "      <th></th>\n",
       "      <th></th>\n",
       "    </tr>\n",
       "  </thead>\n",
       "  <tbody>\n",
       "    <tr>\n",
       "      <th>2010-01-01</th>\n",
       "      <td>0.175818</td>\n",
       "      <td>-0.667740</td>\n",
       "      <td>-0.294884</td>\n",
       "      <td>0.011686</td>\n",
       "      <td>-5.086032</td>\n",
       "      <td>-1.473707e+00</td>\n",
       "      <td>1.872807</td>\n",
       "    </tr>\n",
       "    <tr>\n",
       "      <th>2010-01-02</th>\n",
       "      <td>-1.375657</td>\n",
       "      <td>-2.075379</td>\n",
       "      <td>-1.380453</td>\n",
       "      <td>0.013809</td>\n",
       "      <td>-6.568085</td>\n",
       "      <td>-2.786367e+00</td>\n",
       "      <td>2.729425</td>\n",
       "    </tr>\n",
       "    <tr>\n",
       "      <th>2010-01-03</th>\n",
       "      <td>-2.189736</td>\n",
       "      <td>-2.108758</td>\n",
       "      <td>-2.462976</td>\n",
       "      <td>0.016103</td>\n",
       "      <td>-21.517231</td>\n",
       "      <td>-9.017416e+00</td>\n",
       "      <td>2.970008</td>\n",
       "    </tr>\n",
       "    <tr>\n",
       "      <th>2010-01-04</th>\n",
       "      <td>-1.001858</td>\n",
       "      <td>-0.838221</td>\n",
       "      <td>-1.217928</td>\n",
       "      <td>0.018563</td>\n",
       "      <td>-21.517231</td>\n",
       "      <td>-2.600800e+06</td>\n",
       "      <td>2.462322</td>\n",
       "    </tr>\n",
       "    <tr>\n",
       "      <th>2010-01-05</th>\n",
       "      <td>-1.339170</td>\n",
       "      <td>-1.280739</td>\n",
       "      <td>-1.694560</td>\n",
       "      <td>0.021189</td>\n",
       "      <td>-21.517231</td>\n",
       "      <td>-2.600800e+06</td>\n",
       "      <td>2.330225</td>\n",
       "    </tr>\n",
       "  </tbody>\n",
       "</table>\n",
       "</div>"
      ],
      "text/plain": [
       "            temperature_2m_max  temperature_2m_min  temperature_2m_mean  \\\n",
       "date                                                                      \n",
       "2010-01-01            0.175818           -0.667740            -0.294884   \n",
       "2010-01-02           -1.375657           -2.075379            -1.380453   \n",
       "2010-01-03           -2.189736           -2.108758            -2.462976   \n",
       "2010-01-04           -1.001858           -0.838221            -1.217928   \n",
       "2010-01-05           -1.339170           -1.280739            -1.694560   \n",
       "\n",
       "            daylight_duration   rain_sum  snowfall_sum  wind_speed_10m_max  \n",
       "date                                                                        \n",
       "2010-01-01           0.011686  -5.086032 -1.473707e+00            1.872807  \n",
       "2010-01-02           0.013809  -6.568085 -2.786367e+00            2.729425  \n",
       "2010-01-03           0.016103 -21.517231 -9.017416e+00            2.970008  \n",
       "2010-01-04           0.018563 -21.517231 -2.600800e+06            2.462322  \n",
       "2010-01-05           0.021189 -21.517231 -2.600800e+06            2.330225  "
      ]
     },
     "execution_count": 19,
     "metadata": {},
     "output_type": "execute_result"
    }
   ],
   "source": [
    "# Applying transformations\n",
    "\n",
    "# Temperature columns: seasonal decompose, scale, recompose\n",
    "df_weather['temperature_2m_max_scaled'] = decompose_and_scale(df_weather['temperature_2m_max'])\n",
    "df_weather['temperature_2m_min_scaled'] = decompose_and_scale(df_weather['temperature_2m_min'])\n",
    "df_weather['temperature_2m_mean_scaled'] = decompose_and_scale(df_weather['temperature_2m_mean'])\n",
    "\n",
    "# Daylight duration: MinMax scale\n",
    "df_weather['daylight_duration_scaled'] = MinMaxScaler().fit_transform(df_weather['daylight_duration'].values.reshape(-1, 1))\n",
    "\n",
    "# Rainfall and Snowfall: Log transform with small constant\n",
    "df_weather['rain_sum_log'] = boxcox_transform(df_weather['rain_sum'])\n",
    "df_weather['snowfall_sum_log'] = boxcox_transform(df_weather['snowfall_sum'])\n",
    "\n",
    "# Wind speed: Log transform\n",
    "df_weather['wind_speed_10m_max_log'] = boxcox_transform(df_weather['wind_speed_10m_max'])\n",
    "\n",
    "# Dropping original columns if no longer needed\n",
    "df_weather.drop(columns=['temperature_2m_max', 'temperature_2m_min', 'temperature_2m_mean',\n",
    "                         'daylight_duration', 'rain_sum', 'snowfall_sum', 'wind_speed_10m_max'], inplace=True)\n",
    "\n",
    "# Renaming the transformed columns\n",
    "df_weather.rename(columns={\n",
    "    'temperature_2m_max_scaled': 'temperature_2m_max',\n",
    "    'temperature_2m_min_scaled': 'temperature_2m_min',\n",
    "    'temperature_2m_mean_scaled': 'temperature_2m_mean',\n",
    "    'daylight_duration_scaled': 'daylight_duration',\n",
    "    'rain_sum_log': 'rain_sum',\n",
    "    'snowfall_sum_log': 'snowfall_sum',\n",
    "    'wind_speed_10m_max_log': 'wind_speed_10m_max'\n",
    "}, inplace=True)\n",
    "\n",
    "# Displaying the transformed dataframe\n",
    "df_weather.head()"
   ]
  },
  {
   "cell_type": "markdown",
   "id": "0f8bd2a5-507e-44a2-9411-ef8091d69fd3",
   "metadata": {},
   "source": [
    "## Modeling\n",
    "- Perform Baseline model, 1 day shift (equal to ARIMA(0,1,0))\n",
    "- Step up to ARIMA model to see if performance can be improved\n",
    "- Search for seasonality (weekly and annually) and apply SARIMA if found\n",
    "- SARIMA can only handle one dimension of seasonality, consider TBATs for more than one period\n",
    "  "
   ]
  },
  {
   "cell_type": "code",
   "execution_count": 20,
   "id": "63a525da-70be-4738-b87e-da4d996947b6",
   "metadata": {},
   "outputs": [],
   "source": [
    "# Identify future target columns\n",
    "target_cols = ['Agency', 'Type', 'Zip', 'Borough']\n",
    "\n",
    "# Create Master dataset to use for modeling\n",
    "df_311_dates = df_311_calls.drop(columns=target_cols, axis=1)\n",
    "time_series = df_311_dates.groupby('Date').size().reset_index(name='Count')\n",
    "time_series.set_index('Date', inplace=True)\n",
    "\n",
    "# Dummy for COVID period  ###################### should change this to covid lockdowns\n",
    "lockdown1 = pd.date_range(start='2020-03-21', end='2020-06-06', inclusive='both')\n",
    "lockdown2 = pd.date_range(start='2021-07-09', end='2021-10-27', inclusive='both')\n",
    "lockdown3 = pd.date_range(start='2021-02-13', end='2021-02-17', inclusive='both')\n",
    "lockdown4 = pd.date_range(start='2021-05-28', end='2021-06-10', inclusive='both')\n",
    "lockdowns = lockdown1.union(lockdown2).union(lockdown3).union(lockdown4)\n",
    "\n",
    "time_series['covid'] = time_series.index.isin(lockdowns) * 1\n",
    "time_series['winter'] = (time_series.index.month <= 2) * 1\n",
    "time_series['weekend'] = (time_series.index.dayofweek >= 5) * 1\n",
    "time_series['311_app'] = (time_series.index >= pd.Timestamp('2013-03-19')) * 1\n",
    "\n",
    "time_series = pd.concat([time_series, df_weather], axis=1)"
   ]
  },
  {
   "cell_type": "code",
   "execution_count": 21,
   "id": "9b568eb6-51e1-436c-98bb-ed5a06694417",
   "metadata": {},
   "outputs": [],
   "source": [
    "# Interpolate NYC population using US Census estimates\n",
    "population_data = {\n",
    "    'date': pd.to_datetime(['2010-01-01', '2010-07-01', '2011-07-01', '2012-07-01', '2013-07-01', '2014-07-01',\n",
    "                            '2015-07-01', '2016-07-01', '2017-07-01', '2018-07-01', '2019-07-01',\n",
    "                            '2020-04-01', '2020-07-01', '2021-07-01', '2022-07-01', '2023-07-01', '2024-03-31']),\n",
    "    'population': [8175133, 8190209, 8251281, 8312676, 8374527, 8436839, 8499614, 8562857, 8626570, 8690757, 8755421, 8804199, 8740292, 8462216, 8335798, 8258035, 8200257]\n",
    "}\n",
    "\n",
    "# Create DataFrame\n",
    "population_df = pd.DataFrame(population_data)\n",
    "\n",
    "# Set the date as index\n",
    "population_df.set_index('date', inplace=True)\n",
    "\n",
    "# Generate a date range from 2010-01-01 to 2024-03-31\n",
    "date_range = pd.date_range(start='2010-01-01', end='2024-03-31', freq='D')\n",
    "\n",
    "# Reindex the population data to the full date range, using interpolation to fill in the gaps\n",
    "population_daily_df = population_df.reindex(date_range)\n",
    "population_daily_df['population'] = population_daily_df['population'].interpolate(method='linear')\n",
    "\n",
    "# Scale population numbers\n",
    "population_daily_df['population'] = MinMaxScaler().fit_transform(population_daily_df['population'].values.reshape(-1, 1))\n",
    "\n",
    "time_series = pd.concat([time_series, population_daily_df], axis=1)\n",
    "time_series = time_series.asfreq('D')"
   ]
  },
  {
   "cell_type": "code",
   "execution_count": 22,
   "id": "c1717698-e7ba-4426-9fb5-92a9b9360f99",
   "metadata": {},
   "outputs": [],
   "source": [
    "# Create training and testing data sets with a train-test split\n",
    "split_point = int(len(time_series) * 0.8)\n",
    "train_df = time_series.iloc[:split_point]\n",
    "test_df = time_series[split_point:]"
   ]
  },
  {
   "cell_type": "markdown",
   "id": "89647688-6e72-4a48-a28e-08543bf10fd4",
   "metadata": {},
   "source": [
    "### Choosing a Baseline Model\n",
    "Three different models could serve as a baseline for a time series problem.  Each is assessed below:\n",
    "- First order regressive, or AR(1)\n",
    "- Random walk\n",
    "- First order moving average, or MA(1)  "
   ]
  },
  {
   "cell_type": "code",
   "execution_count": null,
   "id": "0fe77ed3-ce86-4e22-99c6-a76cd26a921b",
   "metadata": {},
   "outputs": [],
   "source": [
    "# Helper function to perform the rolling forecast each time and plot the result\n",
    "\n",
    "def rolling_forecast_arima(train_df: pd.DataFrame,\n",
    "                           test_df: pd.DataFrame,\n",
    "                           pdq: Tuple[int, int, int],\n",
    "                           results_compare: pd.DataFrame,\n",
    "                           model_name: str = 'ARIMA') -> pd.DataFrame:\n",
    "    \n",
    "    # Initialize the training data\n",
    "    history = list(train_df['Count'])\n",
    "    predictions = []\n",
    "\n",
    "    # Perform rolling forecast\n",
    "    for t in range(len(test_df)):\n",
    "        model = ARIMA(history, order=pdq)\n",
    "        model_fit = model.fit(method_kwargs={\"maxiter\": 1000})\n",
    "        yhat = model_fit.forecast()[0]\n",
    "        predictions.append(yhat)\n",
    "        history.append(test_df['Count'].iloc[t])\n",
    "\n",
    "    # Calculate MAPE\n",
    "    arima_mape = mean_absolute_percentage_error(test_df['Count'], predictions)\n",
    "    \n",
    "    # Append results to the dataframe\n",
    "    results_compare.loc[model_name] = [pdq, round(arima_mape, 4)]\n",
    "\n",
    "    # Visualize\n",
    "    train_pred = model_fit.predict(start=train_df.index[0], end=train_df.index[-1])\n",
    "\n",
    "    fig, ax = plt.subplots(figsize=(13, 3))\n",
    "    ax.plot(train_df.index, train_pred, label='Training Prediction', color='blue', alpha=0.6)\n",
    "    ax.plot(test_df.index, predictions, label='Test Prediction', color='orange', alpha=0.6)\n",
    "    ax.scatter(train_df.index, train_df['Count'],\n",
    "               alpha=0.3, label='Training Data', color='blue', edgecolors='black', linewidths=.5, s=10)\n",
    "    ax.scatter(test_df.index, test_df['Count'],\n",
    "               alpha=0.3, label='Testing Data', color='orange', edgecolors='black', linewidths=.5, s=10)\n",
    "\n",
    "    plt.xlabel('Date')\n",
    "    plt.ylabel('Count')\n",
    "    plt.title(f'{model_name}({pdq[0]}, {pdq[1]}, {pdq[2]}) Rolling Forecast Model Predictions')\n",
    "    plt.legend()\n",
    "    plt.show()\n",
    "\n",
    "    return results_compare"
   ]
  },
  {
   "cell_type": "markdown",
   "id": "a5774308-0c4e-4c08-aef1-04d0e823cfd3",
   "metadata": {},
   "source": [
    "##### AR(1) Model"
   ]
  },
  {
   "cell_type": "code",
   "execution_count": 32,
   "id": "c6e2de8d-9bbf-4af2-a1ae-72263f1b1728",
   "metadata": {},
   "outputs": [
    {
     "name": "stdout",
     "output_type": "stream",
     "text": [
      "Performance: AR1 Model\n",
      "-------------------------\n",
      "AIC: 70452.16981965481\n",
      "MAPE: 0.2944\n"
     ]
    }
   ],
   "source": [
    "# Create empty dataframe for results\n",
    "results_compare = pd.DataFrame(columns=['Order', 'MAPE'])\n",
    "\n",
    "# ARIMA (1, 0, 0)\n",
    "results_compare = rolling_forecast_arima(train_df['Count'], test_df['Count'], (1, 0, 0), results_compare, model_name='ARIMA')\n",
    "results_compare"
   ]
  },
  {
   "cell_type": "markdown",
   "id": "178b95b4-847a-4070-8d3b-af90dbf8ff04",
   "metadata": {},
   "source": [
    "<br>"
   ]
  },
  {
   "cell_type": "markdown",
   "id": "2fb1dcb9-a99f-4119-911f-49cdb9c7ee91",
   "metadata": {},
   "source": [
    "##### Random Walk"
   ]
  },
  {
   "cell_type": "code",
   "execution_count": 34,
   "id": "1b10b673-6c01-466b-95bd-c1a144483bd9",
   "metadata": {},
   "outputs": [
    {
     "name": "stdout",
     "output_type": "stream",
     "text": [
      "Performance: Random Walk Model\n",
      "-------------------------\n",
      "AIC: 71027.40465825719\n",
      "MAPE: 0.1160\n"
     ]
    }
   ],
   "source": [
    "# ARIMA (0, 1, 0)\n",
    "results_compare = rolling_forecast_arima(train_df['Count'], test_df['Count'], (0, 1, 0), results_compare, model_name='ARIMA')\n",
    "results_compare"
   ]
  },
  {
   "cell_type": "markdown",
   "id": "34424746-ffd6-49ab-8a1c-322623c19e21",
   "metadata": {},
   "source": [
    "<br>"
   ]
  },
  {
   "cell_type": "markdown",
   "id": "404361e7-43aa-4c58-aad5-d6a92cd25efa",
   "metadata": {},
   "source": [
    "##### MA(1) Model"
   ]
  },
  {
   "cell_type": "code",
   "execution_count": 51,
   "id": "ebe1a47e-2f11-453f-8cb4-862c8ee1ebda",
   "metadata": {},
   "outputs": [
    {
     "name": "stdout",
     "output_type": "stream",
     "text": [
      "Performance: MA(1) Model\n",
      "-------------------------\n",
      "AIC: 71193.1254306431\n",
      "MAPE: 0.2947\n"
     ]
    }
   ],
   "source": [
    "# ARIMA (0, 0, 1)\n",
    "results_compare = rolling_forecast_arima(train_df['Count'], test_df['Count'], (0, 1, 0), results_compare, model_name='ARIMA')\n",
    "results_compare"
   ]
  },
  {
   "cell_type": "markdown",
   "id": "12b1bb91-ddac-413e-b7f3-a5b1858a6aef",
   "metadata": {},
   "source": [
    "<br>"
   ]
  },
  {
   "cell_type": "markdown",
   "id": "3210785b-8d0d-4db8-8b94-a19f2b2ef160",
   "metadata": {},
   "source": [
    "**Random Walk is the baseline**: AR(1) has the lowest AIC, but not by much, whereas the Random Walk has much lower error terms.  This will serve as the comparison going forward."
   ]
  },
  {
   "cell_type": "markdown",
   "id": "eef1ac68-2dfe-4f83-9c8b-2ecff5e8f7c4",
   "metadata": {},
   "source": [
    "<br>"
   ]
  },
  {
   "cell_type": "markdown",
   "id": "85950e8a-a9b3-4c6a-8f6e-7f50ad0eff56",
   "metadata": {},
   "source": [
    "### First Simple Model: ARIMA\n",
    "ARIMA will look for autoregressive and moving average terms that will lead to improvements against the baseline.  ARIMA models are applied to \"stationary\" data sets.  The Augmented Dickey-Fuller test will test to determine whether this data is stationary.  Large negative statistics, and p-values under 0.05, imply that the data *is* stationary. "
   ]
  },
  {
   "cell_type": "code",
   "execution_count": 58,
   "id": "d9193416-be74-40d1-a579-a4211e61b739",
   "metadata": {},
   "outputs": [
    {
     "name": "stdout",
     "output_type": "stream",
     "text": [
      "ADF Statistic: -2.5208859123946588\n",
      "p-value: 0.11047490316084208\n"
     ]
    }
   ],
   "source": [
    "result = adfuller(time_series['Count'])\n",
    "print(f'ADF Statistic: {result[0]}')\n",
    "print(f'p-value: {result[1]}')"
   ]
  },
  {
   "cell_type": "markdown",
   "id": "17c20ed6-381d-43c0-a7f5-52c933966d31",
   "metadata": {},
   "source": [
    "<b><span style=\"color:red\">Not stationary</span></b>.  Because the p-value is not less than 0.05, the data is not stationary and must be transformed.  The first transformation will use the one-day difference."
   ]
  },
  {
   "cell_type": "code",
   "execution_count": 59,
   "id": "3f9e076b-e1ed-4381-ac07-b91309b8466b",
   "metadata": {},
   "outputs": [
    {
     "name": "stdout",
     "output_type": "stream",
     "text": [
      "ADF Statistic (1st diff): -21.56754139806522\n",
      "p-value (1st diff): 0.0\n"
     ]
    }
   ],
   "source": [
    "# Transform the data by taking the one-day difference\n",
    "time_series['Count_diff'] = time_series['Count'].diff().dropna()\n",
    "result_diff = adfuller(time_series['Count_diff'].dropna())\n",
    "print(f'ADF Statistic (1st diff): {result_diff[0]}')\n",
    "print(f'p-value (1st diff): {result_diff[1]}')"
   ]
  },
  {
   "cell_type": "markdown",
   "id": "2af21de4-adb0-423e-aaee-29b5b942f219",
   "metadata": {},
   "source": [
    "<b><span style=\"color:#15B01A\">Stationary</span></b>.  The data is now stationary so the future 'd' term will be 1.  Now, the Autocorrelation Function CF and PACF to look for good p and q terms, and check for seasonality. "
   ]
  },
  {
   "cell_type": "code",
   "execution_count": 60,
   "id": "ac6b4909-e1cd-4c91-9f9b-9d7643b70103",
   "metadata": {},
   "outputs": [
    {
     "data": {
      "image/png": "[encoded data removed]",
      "text/plain": [
       "<Figure size 1600x300 with 2 Axes>"
      ]
     },
     "metadata": {},
     "output_type": "display_data"
    }
   ],
   "source": [
    "fig, axes = plt.subplots(1, 2, figsize=(16, 3))\n",
    "\n",
    "plot_acf(time_series['Count_diff'].dropna(), lags=40, ax=axes[0])\n",
    "plot_pacf(time_series['Count_diff'].dropna(), lags=40, ax=axes[1]);"
   ]
  },
  {
   "cell_type": "markdown",
   "id": "ac73abf8-94bf-4389-be01-17db78163556",
   "metadata": {},
   "source": [
    "The drop-off after 1 term in each chart suggests that p=1 and q=1 will lead to better results.  However, the oscillation makes it difficult to determine what the right term actually will be.  Notably, the 7-day pattern outside of the confidence interval suggests seasonality.  A grid search will recommend the best set of 'pdq' to use."
   ]
  },
  {
   "cell_type": "code",
   "execution_count": 61,
   "id": "9926a045-9fcc-49f3-ae7a-21828b96ad3b",
   "metadata": {},
   "outputs": [
    {
     "name": "stderr",
     "output_type": "stream",
     "text": [
      "C:\\Users\\rickl\\AppData\\Roaming\\Python\\Python312\\site-packages\\statsmodels\\tsa\\statespace\\sarimax.py:978: UserWarning: Non-invertible starting MA parameters found. Using zeros as starting parameters.\n",
      "  warn('Non-invertible starting MA parameters found.'\n",
      "C:\\Users\\rickl\\AppData\\Roaming\\Python\\Python312\\site-packages\\statsmodels\\tsa\\statespace\\sarimax.py:978: UserWarning: Non-invertible starting MA parameters found. Using zeros as starting parameters.\n",
      "  warn('Non-invertible starting MA parameters found.'\n",
      "C:\\Users\\rickl\\AppData\\Roaming\\Python\\Python312\\site-packages\\statsmodels\\tsa\\statespace\\sarimax.py:966: UserWarning: Non-stationary starting autoregressive parameters found. Using zeros as starting parameters.\n",
      "  warn('Non-stationary starting autoregressive parameters'\n",
      "C:\\Users\\rickl\\AppData\\Roaming\\Python\\Python312\\site-packages\\statsmodels\\tsa\\statespace\\sarimax.py:978: UserWarning: Non-invertible starting MA parameters found. Using zeros as starting parameters.\n",
      "  warn('Non-invertible starting MA parameters found.'\n"
     ]
    },
    {
     "name": "stdout",
     "output_type": "stream",
     "text": [
      "Best ARIMA model: (3, 1, 3) with MAPE 0.1081\n",
      "CPU times: total: 8.7 s\n",
      "Wall time: 11.9 s\n"
     ]
    }
   ],
   "source": [
    "%%time\n",
    "\n",
    "# Specify all iterations of pdq\n",
    "p = q = range(0, 4)\n",
    "d = 1\n",
    "arima_pdq = list(itertools.product(p, [d], q))\n",
    "\n",
    "# Set up logging\n",
    "logging.basicConfig(level=logging.INFO, filename='arima_grid_search.log', filemode='w',\n",
    "                    format='%(asctime)s - %(levelname)s - %(message)s')\n",
    "\n",
    "# Function to fit ARIMA with rolling forecast and calculate MAPE\n",
    "def fit_arima_rolling(train, test, param):\n",
    "    history = list(train)\n",
    "    predictions = []\n",
    "    try:\n",
    "        for t in range(len(test)):\n",
    "            model = ARIMA(history, order=param)\n",
    "            model_fit = model.fit(method_kwargs={\"maxiter\": 1000})\n",
    "            yhat = model_fit.forecast()[0]\n",
    "            predictions.append(yhat)\n",
    "            history.append(test[t])\n",
    "        mape = mean_absolute_percentage_error(test, predictions)\n",
    "        logging.info(f'Successfully fitted ARIMA model with parameters {param}, MAPE: {mape:.4f}')\n",
    "        return mape, param\n",
    "    except Exception as e:\n",
    "        logging.error(f'Error fitting ARIMA model with parameters {param}: {e}')\n",
    "        return np.inf, param\n",
    "\n",
    "# Containers for ARIMA grid search\n",
    "arima_best_mape = np.inf\n",
    "arima_best_pdq = None\n",
    "\n",
    "# Perform grid search\n",
    "for param in arima_pdq:\n",
    "    mape, param = fit_arima_rolling(train_df['Count'], test_df['Count'], param)\n",
    "    if mape < arima_best_mape:\n",
    "        arima_best_mape = mape\n",
    "        arima_best_pdq = param\n",
    "\n",
    "print(f'Best ARIMA model: {arima_best_pdq} with MAPE {arima_best_mape:.4f}')"
   ]
  },
  {
   "cell_type": "markdown",
   "id": "7de1576f-5756-4a41-93fc-6bc865ceae84",
   "metadata": {},
   "source": [
    "<br>"
   ]
  },
  {
   "cell_type": "markdown",
   "id": "51af86ad-7a51-4b9a-88da-60db5df91f68",
   "metadata": {},
   "source": [
    "The grid search identifies (3,1,3) as the model with the lowest MAPE.  However, (1,1,1) is much lower-order and may have similar performance.  Both will be tested."
   ]
  },
  {
   "cell_type": "code",
   "execution_count": 64,
   "id": "0581b480-8438-499b-8ceb-9dcc87f5c345",
   "metadata": {},
   "outputs": [
    {
     "data": {
      "text/html": [
       "<div>\n",
       "<style scoped>\n",
       "    .dataframe tbody tr th:only-of-type {\n",
       "        vertical-align: middle;\n",
       "    }\n",
       "\n",
       "    .dataframe tbody tr th {\n",
       "        vertical-align: top;\n",
       "    }\n",
       "\n",
       "    .dataframe thead th {\n",
       "        text-align: right;\n",
       "    }\n",
       "</style>\n",
       "<table border=\"1\" class=\"dataframe\">\n",
       "  <thead>\n",
       "    <tr style=\"text-align: right;\">\n",
       "      <th></th>\n",
       "      <th>Order</th>\n",
       "      <th>AIC</th>\n",
       "      <th>MAPE</th>\n",
       "    </tr>\n",
       "    <tr>\n",
       "      <th>Model</th>\n",
       "      <th></th>\n",
       "      <th></th>\n",
       "      <th></th>\n",
       "    </tr>\n",
       "  </thead>\n",
       "  <tbody>\n",
       "    <tr>\n",
       "      <th>ARIMA Opt</th>\n",
       "      <td>(3, 1, 3)</td>\n",
       "      <td>69014.0</td>\n",
       "      <td>0.1081</td>\n",
       "    </tr>\n",
       "    <tr>\n",
       "      <th>Random Walk</th>\n",
       "      <td>(0, 1, 0)</td>\n",
       "      <td>71027.4</td>\n",
       "      <td>0.1160</td>\n",
       "    </tr>\n",
       "    <tr>\n",
       "      <th>AR(1)</th>\n",
       "      <td>(1, 0, 0)</td>\n",
       "      <td>70452.2</td>\n",
       "      <td>0.2944</td>\n",
       "    </tr>\n",
       "    <tr>\n",
       "      <th>MA(1)</th>\n",
       "      <td>(0, 0, 1)</td>\n",
       "      <td>71193.1</td>\n",
       "      <td>0.2947</td>\n",
       "    </tr>\n",
       "  </tbody>\n",
       "</table>\n",
       "</div>"
      ],
      "text/plain": [
       "                 Order      AIC    MAPE\n",
       "Model                                  \n",
       "ARIMA Opt    (3, 1, 3)  69014.0  0.1081\n",
       "Random Walk  (0, 1, 0)  71027.4  0.1160\n",
       "AR(1)        (1, 0, 0)  70452.2  0.2944\n",
       "MA(1)        (0, 0, 1)  71193.1  0.2947"
      ]
     },
     "execution_count": 64,
     "metadata": {},
     "output_type": "execute_result"
    }
   ],
   "source": [
    "# ARIMA (optimal)\n",
    "results_compare = rolling_forecast_arima(train_df['Count'], test_df['Count'], arima_best_pdq, results_compare, model_name='ARIMA Optimal')\n",
    "results_compare"
   ]
  },
  {
   "cell_type": "code",
   "execution_count": 69,
   "id": "27e1f4ea-3478-46a0-9f74-f2ff0b9a6b75",
   "metadata": {},
   "outputs": [
    {
     "data": {
      "text/html": [
       "<div>\n",
       "<style scoped>\n",
       "    .dataframe tbody tr th:only-of-type {\n",
       "        vertical-align: middle;\n",
       "    }\n",
       "\n",
       "    .dataframe tbody tr th {\n",
       "        vertical-align: top;\n",
       "    }\n",
       "\n",
       "    .dataframe thead th {\n",
       "        text-align: right;\n",
       "    }\n",
       "</style>\n",
       "<table border=\"1\" class=\"dataframe\">\n",
       "  <thead>\n",
       "    <tr style=\"text-align: right;\">\n",
       "      <th></th>\n",
       "      <th>Order</th>\n",
       "      <th>AIC</th>\n",
       "      <th>MAPE</th>\n",
       "    </tr>\n",
       "    <tr>\n",
       "      <th>Model</th>\n",
       "      <th></th>\n",
       "      <th></th>\n",
       "      <th></th>\n",
       "    </tr>\n",
       "  </thead>\n",
       "  <tbody>\n",
       "    <tr>\n",
       "      <th>ARIMA Opt</th>\n",
       "      <td>(3, 1, 3)</td>\n",
       "      <td>69014.0</td>\n",
       "      <td>0.1081</td>\n",
       "    </tr>\n",
       "    <tr>\n",
       "      <th>ARIMA Alt</th>\n",
       "      <td>(1, 1, 1)</td>\n",
       "      <td>69895.5</td>\n",
       "      <td>0.1096</td>\n",
       "    </tr>\n",
       "    <tr>\n",
       "      <th>Random Walk</th>\n",
       "      <td>(0, 1, 0)</td>\n",
       "      <td>71027.4</td>\n",
       "      <td>0.1160</td>\n",
       "    </tr>\n",
       "    <tr>\n",
       "      <th>AR(1)</th>\n",
       "      <td>(1, 0, 0)</td>\n",
       "      <td>70452.2</td>\n",
       "      <td>0.2944</td>\n",
       "    </tr>\n",
       "    <tr>\n",
       "      <th>MA(1)</th>\n",
       "      <td>(0, 0, 1)</td>\n",
       "      <td>71193.1</td>\n",
       "      <td>0.2947</td>\n",
       "    </tr>\n",
       "  </tbody>\n",
       "</table>\n",
       "</div>"
      ],
      "text/plain": [
       "                 Order      AIC    MAPE\n",
       "Model                                  \n",
       "ARIMA Opt    (3, 1, 3)  69014.0  0.1081\n",
       "ARIMA Alt    (1, 1, 1)  69895.5  0.1096\n",
       "Random Walk  (0, 1, 0)  71027.4  0.1160\n",
       "AR(1)        (1, 0, 0)  70452.2  0.2944\n",
       "MA(1)        (0, 0, 1)  71193.1  0.2947"
      ]
     },
     "execution_count": 69,
     "metadata": {},
     "output_type": "execute_result"
    }
   ],
   "source": [
    "# ARIMA(1,1,1) (alternative)\n",
    "results_compare = rolling_forecast_arima(train_df['Count'], test_df['Count'], (1,1,1), results_compare, model_name='ARIMA Alternative')\n",
    "results_compare"
   ]
  },
  {
   "cell_type": "markdown",
   "id": "4ad2e3e6-b07e-447e-a61d-6cb7fda8a5a4",
   "metadata": {},
   "source": [
    "The lower-order alternative ARIMA model is almost as good as the higher-order ARIMA.  If complexity were a concern, (1,1,1) would be a good fallback option.\n",
    "<br>\n"
   ]
  },
  {
   "cell_type": "markdown",
   "id": "dbbea240-aafd-42a5-a945-76961c06dd8b",
   "metadata": {},
   "source": [
    "### SARIMA for seasonality\n",
    "The ACF/PACF plots suggested seasonality.  SARIMA is a form of ARIMA model that detects and models seasonality as well (though only one form).  Like ARIMA, SARIMA requires stationary data.  The ADF test showed that undifferenced data taking the seasonal difference"
   ]
  },
  {
   "cell_type": "code",
   "execution_count": null,
   "id": "1f6ca989-6e7a-4687-992c-5e290d8cf6eb",
   "metadata": {},
   "outputs": [],
   "source": [
    "time_series['week_diff'] = time_series['Count_diff'].diff(7)\n",
    "results_adf_7d = adfuller(time_series['week_diff'].dropna())\n",
    "print(f'ADF Statistic (1st diff): {results_adf_7d[0]}')\n",
    "print(f'p-value (1st diff): {results_adf_7d[1]}')"
   ]
  },
  {
   "cell_type": "markdown",
   "id": "813dcb91-b5de-425c-9c57-832abc4a23de",
   "metadata": {},
   "source": [
    "7-day differencing results in stationarity.  'D' term will be 1 as well."
   ]
  },
  {
   "cell_type": "code",
   "execution_count": null,
   "id": "e94bc999-03d4-485d-9b8c-19541b6d75dc",
   "metadata": {},
   "outputs": [],
   "source": [
    "# Plot ACF and PACF of seasonally differenced residuals\n",
    "fig, ax = plt.subplots(1, 2, figsize=(14, 2))\n",
    "plot_acf(time_series['week_diff'].dropna(), ax=ax[0], lags=50)\n",
    "plot_pacf(time_series['week_diff'].dropna(), ax=ax[1], lags=50)\n",
    "plt.tight_layout()\n",
    "plt.show()"
   ]
  },
  {
   "cell_type": "markdown",
   "id": "d5dcfa48-d074-4e1a-8649-d17ed5a717ea",
   "metadata": {},
   "source": [
    "**MA(Q) = 1**:  The ACF chart rebounds to zero by the second week.  \n",
    "**AR(P) = 6**:  The PACF chart appears to rebound to zero by the sixth week.  \n",
    "<br>\n",
    "The first SARIMA model should try (1,1,1) (6,1,1) with 7-day seasonality.  Once again, we'll use a grid search to find the best model, but since we know that AIC sometimes returns sub-optimal models, we will select for lowest MAPE on the test set."
   ]
  },
  {
   "cell_type": "code",
   "execution_count": null,
   "id": "258819a2-e8ff-4e74-874a-375844890396",
   "metadata": {},
   "outputs": [],
   "source": [
    "%%time\n",
    "# Function to fit SARIMA and calculate MAPE\n",
    "def fit_sarima(train, test, param, seasonal_param):\n",
    "    try:\n",
    "        model = SARIMAX(train, order=param, seasonal_order=seasonal_param)\n",
    "        results = model.fit(disp=False, maxiter=2000, method='powell')\n",
    "        predictions = results.get_forecast(steps=len(test)).predicted_mean\n",
    "        mape = mean_absolute_percentage_error(test, predictions)\n",
    "        del model, results, predictions\n",
    "        logging.info(f'Successfully fitted SARIMA model with parameters {param}x{seasonal_param}, MAPE: {mape}')\n",
    "        return mape, param, seasonal_param\n",
    "    except Exception as e:\n",
    "        logging.error(f'Error fitting SARIMA model with parameters {param}x{seasonal_param}: {e}')\n",
    "        return np.inf, param, seasonal_param"
   ]
  },
  {
   "cell_type": "code",
   "execution_count": null,
   "id": "186ac898-5ed7-4045-b4e8-bbadb02c2d52",
   "metadata": {},
   "outputs": [],
   "source": [
    "%%time\n",
    "# Define the range for p, q, P, Q\n",
    "p = q = range(1, 4)\n",
    "P = Q = range(0, 5)\n",
    "d = D = 1\n",
    "seasonal_period = 7\n",
    "\n",
    "# Generate all combinations of p, d, q and P, D, Q\n",
    "pdq = list(itertools.product(p, [d], q))\n",
    "seasonal_pdq = list(itertools.product(P, [D], Q, [seasonal_period]))\n",
    "\n",
    "# Create delayed tasks for Dask\n",
    "tasks = [\n",
    "    delayed(fit_sarima)(train_df['Count'], test_df['Count'], param, seasonal_param)\n",
    "    for param in pdq\n",
    "    for seasonal_param in seasonal_pdq\n",
    "]\n",
    "\n",
    "# Compute the results using Dask\n",
    "results = compute(*tasks)\n",
    "\n",
    "# Extract the best model based on MAPE\n",
    "best_mape, best_pdq, best_seasonal_pdq = min(results, key=lambda x: x[0])\n",
    "\n",
    "# Print the best model and its parameters\n",
    "print(f'Best SARIMA model: {best_pdq}x{best_seasonal_pdq} with MAPE {best_mape:.4f}')"
   ]
  },
  {
   "cell_type": "code",
   "execution_count": null,
   "id": "3905ed99-bbe2-42bb-950b-455d9ab23148",
   "metadata": {},
   "outputs": [],
   "source": [
    "# Define optimization methods to try\n",
    "optimization_methods = ['powell', 'cg', 'bfgs', 'lbfgs', 'nm', 'basinhopping']\n",
    "\n",
    "def fit_sarima_opt(train_data, val_data, method):\n",
    "    try:\n",
    "        model = SARIMAX(train_data, order=(1, 1, 3), seasonal_order=(3, 1, 3, 7))\n",
    "        results = model.fit(method=method, maxiter=2000)\n",
    "        predictions = results.get_forecast(steps=len(val_data)).predicted_mean\n",
    "        mape = mean_absolute_percentage_error(val_data, predictions)\n",
    "        logging.info(f'Method: {method}, MAPE: {mape}')\n",
    "        return mape, method\n",
    "    except Exception as e:\n",
    "        logging.error(f'Error fitting SARIMA model with method {method}: {e}')\n",
    "        return float('inf'), method\n",
    "        \n",
    "k = 5\n",
    "tscv = TimeSeriesSplit(n_splits=k)\n",
    "\n",
    "best_mape = float('inf')\n",
    "best_optimization_method = None\n",
    "\n",
    "# Define delayed tasks for Dask\n",
    "delayed_tasks = []\n",
    "for train_index, val_index in tscv.split(train_df['Count']):\n",
    "    train_data, val_data = train_df['Count'].iloc[train_index], train_df['Count'].iloc[val_index]\n",
    "    for method in optimization_methods:\n",
    "        delayed_tasks.append(delayed(fit_sarima_opt)(train_data, val_data, method))\n",
    "\n",
    "# Compute the results using Dask\n",
    "results = compute(*delayed_tasks)\n",
    "\n",
    "# Process the results\n",
    "for result in results:\n",
    "    mape, method = result\n",
    "    if mape < best_mape:\n",
    "        best_mape = mape\n",
    "        best_optimization_method = method\n",
    "\n",
    "print(f'Best SARIMA model: Optimization Method: {best_optimization_method}, MAPE: {best_mape}')"
   ]
  },
  {
   "cell_type": "code",
   "execution_count": null,
   "id": "19f57b92-41d7-4a7e-9210-49e75c2a535d",
   "metadata": {},
   "outputs": [],
   "source": [
    "@delayed\n",
    "def fit_and_evaluate_sarima(train_data, val_data):\n",
    "    try:\n",
    "        sarima_model = SARIMAX(train_data,\n",
    "                               order=(1, 1, 1), \n",
    "                               seasonal_order=(1, 1, 1, 7),\n",
    "                               enforce_stationarity=False, \n",
    "                               enforce_invertibility=False)\n",
    "        sarima_results = sarima_model.fit(disp=False, maxiter=2000, method='powell')\n",
    "        sarima_pred = sarima_results.get_forecast(steps=len(val_data))\n",
    "        sarima_y_pred = sarima_pred.predicted_mean\n",
    "\n",
    "        # Calculate evaluation metrics\n",
    "        sarima_mape = mean_absolute_percentage_error(val_data, sarima_y_pred)\n",
    "\n",
    "        logging.info(f'MAPE: {sarima_mape}')\n",
    "\n",
    "        return sarima_mape, val_data, sarima_y_pred\n",
    "    except Exception as e:\n",
    "        logging.error(f'Error fitting SARIMA model: {e}')\n",
    "        return float('inf'), [], []\n",
    "\n",
    "# Cross-validation setup\n",
    "k = 5\n",
    "tscv = TimeSeriesSplit(n_splits=k)\n",
    "\n",
    "# Define delayed tasks for Dask\n",
    "delayed_tasks = []\n",
    "for train_index, val_index in tscv.split(train_df['Count']):\n",
    "    train_data, val_data = train_df['Count'].iloc[train_index], train_df['Count'].iloc[val_index]\n",
    "    delayed_tasks.append(delayed(fit_and_evaluate_sarima)(train_data, val_data))\n",
    "\n",
    "# Compute the results using Dask\n",
    "results = compute(*delayed_tasks)\n",
    "\n",
    "# Aggregate the cross-validation results\n",
    "aggregated_results = {\n",
    "    'mape': np.mean([result[1] for result in results]),\n",
    "}\n",
    "\n",
    "print(\"Cross-Validation Results:\")\n",
    "print(f\"MAPE: {aggregated_results['mape']}\")\n",
    "\n",
    "# Fit the final model on the entire training dataset and evaluate on the test dataset\n",
    "final_sarima_model = SARIMAX(train_df['Count'],\n",
    "                             order=(1, 1, 1), \n",
    "                             seasonal_order=(1, 1, 1, 7),\n",
    "                             enforce_stationarity=False, \n",
    "                             enforce_invertibility=False)\n",
    "final_sarima_results = final_sarima_model.fit(disp=False, maxiter=2000, method='powell')\n",
    "final_sarima_pred = final_sarima_results.get_forecast(steps=len(test_df))\n",
    "final_sarima_y_pred = final_sarima_pred.predicted_mean\n",
    "\n",
    "# Calculate final evaluation metrics\n",
    "final_sarima_mape = mean_absolute_percentage_error(test_df['Count'], final_sarima_y_pred)\n",
    "\n",
    "# Output the final results\n",
    "sarima_order_str = \"(1, 1, 1)(1, 1, 1, 7)\"\n",
    "results_compare.loc['SARIMA'] = [sarima_order_str, round(final_sarima_results.aic,1), round(final_sarima_mape,4)]\n",
    "results_compare = results_compare.sort_values('MAPE')\n",
    "results_format = results_compare.style.format({\n",
    "                 'AIC': '{:,.1f}',\n",
    "                 'MAPE': '{:.4f}',\n",
    "             })\n",
    "\n",
    "print(results_format)"
   ]
  },
  {
   "cell_type": "code",
   "execution_count": null,
   "id": "3ea97343-d395-4b27-b11a-c4c37516de32",
   "metadata": {},
   "outputs": [],
   "source": [
    "# Visualize predictions\n",
    "plt.figure(figsize=(12, 6))\n",
    "plt.plot(test_df['Count'], label='Actual')\n",
    "plt.plot(final_sarima_y_pred, label='Predicted')\n",
    "plt.legend()\n",
    "plt.title('SARIMA Model Predictions vs Actual')\n",
    "plt.show()"
   ]
  },
  {
   "cell_type": "markdown",
   "id": "e468491e-7053-4ec2-a8b2-e2a371840a0e",
   "metadata": {},
   "source": [
    "This is the best iteration of SARIMA with 7-day seasonality, but it performs worse than the simpler ARIMA model.\n",
    "To address this, consider exogenous variables in the SARIMAX model."
   ]
  },
  {
   "cell_type": "markdown",
   "id": "734d0d44-cd4a-4a85-a0ed-60c05279197b",
   "metadata": {},
   "source": [
    "&nbsp;"
   ]
  },
  {
   "cell_type": "markdown",
   "id": "2387ecb2-6b01-41f8-9099-658960336ecf",
   "metadata": {},
   "source": [
    "### SARIMAX  \n",
    "- Test exogenous variables for COVID Lockdowns, weekends, winter and weather"
   ]
  },
  {
   "cell_type": "code",
   "execution_count": null,
   "id": "fd7d8ace-f456-4df6-aed0-315fcd6058c0",
   "metadata": {},
   "outputs": [],
   "source": [
    "exog_cols = ['weekend', 'temperature_2m_max', 'temperature_2m_min', 'daylight_duration', 'temperature_2m_mean', 'rain_sum', 'snowfall_sum', '311_app']\n",
    "\n",
    "# Fit the SARIMA model with the Auto ARIMA parameters and the COVID dummy variable\n",
    "sarimax_model = SARIMAX(train_df['Count'], \n",
    "                        exog=train_df[exog_cols],\n",
    "                        order=(1, 1, 1), \n",
    "                        #seasonal_order=(4, 1, 1, 7),\n",
    "                        enforce_stationarity=False, \n",
    "                        enforce_invertibility=False)\n",
    "\n",
    "sarimax_results = sarimax_model.fit(disp=False, method='powell', maxiter=1000)"
   ]
  },
  {
   "cell_type": "code",
   "execution_count": null,
   "id": "e488895b-1568-42ab-bf69-ef3ec635da1a",
   "metadata": {},
   "outputs": [],
   "source": [
    "# Forecast using the SARIMA model\n",
    "sarimax_pred = sarimax_results.get_forecast(steps=len(test_df), exog=test_df[exog_cols])\n",
    "sarimax_y_pred = sarimax_pred.predicted_mean\n",
    "\n",
    "# Calculate evaluation metrics\n",
    "sarimax_mape = mean_absolute_percentage_error(test_df['Count'], sarimax_y_pred)\n",
    "\n",
    "# Print evaluation metrics\n",
    "print('SARIMAX model errors with exogenous variable')\n",
    "print('-------------------------')\n",
    "print(f'MAPE: {sarimax_mape:.4f}')"
   ]
  },
  {
   "cell_type": "markdown",
   "id": "e0f2fbae-2889-4a07-8977-461a6d613539",
   "metadata": {},
   "source": [
    "***Exogenous Results***  \n",
    "- Tested with and without seasonality.  Across the board, seasonality (i.e. SARIMA) worsens model performance.\n",
    "- Eliminating seasonality (i.e. ARIMA), but including regressors that stand in for some types of seasonality, improves performance by 9.2% (1.01% absolute).\n",
    "- Four regressors did not help the outcome: Wind, COVID lockdowns, population and winter\n",
    "- Results in cell below"
   ]
  },
  {
   "cell_type": "markdown",
   "id": "22afdd68-a73e-4e3b-a9bf-c87eec1b76ff",
   "metadata": {},
   "source": [
    "(2,1,1)(4,1,1,7), winter = .1436  \n",
    "(2,1,1)(4,1,1,7), covid = .4282  \n",
    "(2,1,1)(2,1,1,7), covid = .4593  \n",
    "(2,1,1)(4,1,1,7), weekend =.1380  \n",
    "(1,1,1)(4,1,1,7), weekend =.1430  \n",
    "(2,1,1)(4,1,1,7), temp_max =.1388  \n",
    "(2,1,1)(4,1,1,7), temp_min =.1354  \n",
    "(2,1,1)(4,1,1,7), temp_avg =.1383  \n",
    "(2,1,1)(4,1,1,7), daylight =.1322  \n",
    "(2,1,1)(4,1,1,7), rain =.1360  \n",
    "(2,1,1)(4,1,1,7), snow =.1365  \n",
    "(2,1,1)(4,1,1,7), wind =.1403  \n",
    "(2,1,1)(4,1,1,7), app =.1420  \n",
    "(2,1,1)(4,1,1,7), pop =.2989  \n",
    "(2,1,1)(4,1,1,7), rain, snow =.1348  \n",
    "\n",
    "(1,1,1), None = 0.1096  \n",
    "(1,1,1), weekend = 0.1080  \n",
    "(1,1,1), winter = 0.1114  \n",
    "(1,1,1), covid = 0.1268  \n",
    "(1,1,1), temp_max = 0.1095  \n",
    "(1,1,1), temp_min = 0.1073  \n",
    "(1,1,1), temp_avg = 0.1083  \n",
    "(1,1,1), wind = 0.1109  \n",
    "(1,1,1), rain = 0.1086  \n",
    "(1,1,1), snow = 0.1091  \n",
    "(1,1,1), daylight = 0.1078  \n",
    "(1,1,1), app = 0.1096  \n",
    "(1,1,1), pop = 0.1808  \n",
    "\n",
    "(1,1,1), weekend, temp_max = 0.1072  \n",
    "(1,1,1), weekend, temp_max, temp_min = 0.1041  \n",
    "(1,1,1), weekend, temp_max, temp_min, temp_avg = 0.1040  \n",
    "(1,1,1), weekend, temp_max, temp_min, temp_avg, daylight, rain = 0.1001  \n",
    "(1,1,1), weekend, temp_max, temp_min, temp_avg, daylight, rain, snow = 0.0995  \n",
    "(1,1,1), weekend, temp_max, temp_min, temp_avg, daylight, rain, snow, app = 0.0993  "
   ]
  },
  {
   "cell_type": "code",
   "execution_count": null,
   "id": "c2ef3281-fb9f-411c-9684-13a561e7972c",
   "metadata": {},
   "outputs": [],
   "source": [
    "print(sarimax_results.summary())"
   ]
  },
  {
   "cell_type": "markdown",
   "id": "5866c7c9-b9a7-4d6f-8b7c-c77ae39c66d2",
   "metadata": {},
   "source": [
    "<br>"
   ]
  },
  {
   "cell_type": "markdown",
   "id": "03eb3bcb-3791-4d2d-8b12-119638e7fa99",
   "metadata": {},
   "source": [
    "### Prophet\n",
    "- Switch to using Facebook's Prophet model\n",
    "- Capable of analyzing multiple seasonalities\n",
    "- Can take in exogenous variables\n",
    "- Can take into account holidays and one time events, such as COVID lockdowns"
   ]
  },
  {
   "cell_type": "code",
   "execution_count": null,
   "id": "5bcdd236-4b43-4af1-a212-581747d08cb1",
   "metadata": {},
   "outputs": [],
   "source": [
    "time_series.columns"
   ]
  },
  {
   "cell_type": "code",
   "execution_count": null,
   "id": "4d8dd716-3970-4f79-a56f-6269c683c45f",
   "metadata": {},
   "outputs": [],
   "source": [
    "# Create and concatenate all holidays into a single variable\n",
    "\n",
    "# Add US holidays\n",
    "us_holidays = make_holidays_df(year_list=range(2010, 2025), country='US')\n",
    "\n",
    "# Create a special COVID lockdown \"holiday\" category\n",
    "lockdowns = pd.DataFrame([\n",
    "    {'holiday': 'lockdown_1', 'ds': '2020-03-21', 'lower_window': 0, 'ds_upper': '2020-06-06'},\n",
    "    {'holiday': 'lockdown_2', 'ds': '2020-07-09', 'lower_window': 0, 'ds_upper': '2020-10-27'},\n",
    "    {'holiday': 'lockdown_3', 'ds': '2021-02-13', 'lower_window': 0, 'ds_upper': '2021-02-17'},\n",
    "    {'holiday': 'lockdown_4', 'ds': '2021-05-28', 'lower_window': 0, 'ds_upper': '2021-06-10'},\n",
    "])\n",
    "for t_col in ['ds', 'ds_upper']:\n",
    "    lockdowns[t_col] = pd.to_datetime(lockdowns[t_col])\n",
    "lockdowns['upper_window'] = (lockdowns['ds_upper'] - lockdowns['ds']).dt.days\n",
    "\n",
    "# NYC-specific events\n",
    "nyc_marathon = pd.DataFrame({\n",
    "    'holiday': 'NYC Marathon',\n",
    "    'ds': pd.to_datetime(['2010-11-07','2011-11-06','2013-11-03','2014-11-02','2015-11-01','2016-11-06',\n",
    "                          '2017-11-05','2018-11-04','2019-11-03','2021-11-07','2022-11-06','2023-11-05']),\n",
    "    'lower_window': 0,\n",
    "    'upper_window': 1,\n",
    "})\n",
    "\n",
    "nyc_storms = pd.DataFrame({\n",
    "    'holiday': 'NYC Storms',\n",
    "    'ds': pd.to_datetime(['2011-08-27','2011-08-28','2011-08-29','2011-10-29','2011-10-30','2011-10-31',\n",
    "                          '2016-01-22','2016-01-23','2016-01-24','2016-01-25','2020-08-04','2020-08-05']),\n",
    "    'lower_window': 0,\n",
    "    'upper_window': 1,\n",
    "})\n",
    "\n",
    "holidays = pd.concat([us_holidays, nyc_marathon, nyc_storms, lockdowns])"
   ]
  },
  {
   "cell_type": "code",
   "execution_count": null,
   "id": "427f8ffd-fdf3-476b-9725-127922220172",
   "metadata": {},
   "outputs": [],
   "source": [
    "prophet_df = time_series.drop(columns=['Count_diff', 'week_diff'], axis=1).reset_index().rename(columns={'index': 'ds', 'Count': 'y'})\n",
    "\n",
    "# Split the data into training and testing sets (80%/20% split)\n",
    "split_index = int(len(prophet_df) * 0.8)\n",
    "train_df = prophet_df.iloc[:split_index]\n",
    "test_df = prophet_df.iloc[split_index:]"
   ]
  },
  {
   "cell_type": "code",
   "execution_count": null,
   "id": "8c13ae80-6ade-49d4-98df-ae96b409301b",
   "metadata": {},
   "outputs": [],
   "source": [
    "# Instantiate\n",
    "prophet_model = Prophet(yearly_seasonality=False,\n",
    "                        weekly_seasonality=False,\n",
    "                        daily_seasonality=False,\n",
    "                        holidays=holidays,\n",
    "                        changepoint_prior_scale=.13)\n",
    "\n",
    "# Regressor list\n",
    "regressor_list = [\n",
    "    # 'covid',\n",
    "    # 'winter',\n",
    "     'weekend',\n",
    "    # 'temperature_2m_max',\n",
    "     'temperature_2m_min',\n",
    "     'temperature_2m_mean',\n",
    "     'daylight_duration',\n",
    "     'rain_sum',\n",
    "     '311_app',\n",
    "    # 'population'\n",
    "    # 'snowfall_sum',\n",
    "    # 'wind_speed_10m_max'\n",
    "]\n",
    "\n",
    "model_regressors = []\n",
    "for item in regressor_list:\n",
    "    model_regressors.append(item)\n",
    "\n",
    "\n",
    "# Add regressors\n",
    "for item in model_regressors:\n",
    "    prophet_model.add_regressor(item)\n",
    "\n",
    "# Fit\n",
    "prophet_model.fit(train_df)\n",
    "\n",
    "# Make future dataframe for predictions and predict\n",
    "future = prophet_model.make_future_dataframe(periods=len(test_df), freq='D')\n",
    "future = pd.concat([future, time_series[model_regressors].reset_index(drop=True)], axis=1)\n",
    "forecast = prophet_model.predict(future)\n",
    "\n",
    "# Plot the forecast\n",
    "prophet_model.plot(forecast)\n",
    "plt.show()"
   ]
  },
  {
   "cell_type": "code",
   "execution_count": null,
   "id": "600db284-b4fa-49c1-bb9a-73fe9a673976",
   "metadata": {},
   "outputs": [],
   "source": [
    "# Extract the predictions for the training and testing periods\n",
    "train_forecast = forecast.iloc[:split_index]\n",
    "test_forecast = forecast.iloc[split_index:]\n",
    "\n",
    "# Calculate evaluation metrics\n",
    "prophet_y_true = test_df['y'].values\n",
    "prophet_y_pred = forecast['yhat'].values[-len(test_df):]\n",
    "prophet_mae = mean_absolute_error(prophet_y_true, prophet_y_pred)\n",
    "prophet_mape = mean_absolute_percentage_error(prophet_y_true, prophet_y_pred)\n",
    "prophet_mse = mean_squared_error(prophet_y_true, prophet_y_pred)\n",
    "prophet_rmse = root_mean_squared_error(prophet_y_true, prophet_y_pred)\n",
    "\n",
    "print('Prophet model errors')\n",
    "print('-------------------------')\n",
    "print(f'MAE: {prophet_mae}')\n",
    "print(f'MAPE: {prophet_mape:.4f}')\n",
    "print(f'MSE: {prophet_mse}')\n",
    "print(f'RMSE: {prophet_rmse}')"
   ]
  },
  {
   "cell_type": "markdown",
   "id": "73eb68fa-f321-408a-8fe3-2f6af04e1f40",
   "metadata": {},
   "source": [
    "***Prophet Performance***\n",
    "No seasonality, no holidays, no regressors:  0.1154  \n",
    "D seasonality, no holidays, no regressors:  0.1152  \n",
    "W seasonality, no holidays, no regressors:  0.2383  \n",
    "A seasonality, no holidays, no regressors:  0.2863  \n",
    "\n",
    "No seasonality, COVID holidays, no regressors:  0.1250  \n",
    "No seasonality, US holidays, no regressors:  0.1120  \n",
    "No seasonality, NYC storms, no regressors:  0.1153  \n",
    "No seasonality, NYC marathon, no regressors:  0.1152\n",
    "No seasonality, US holiday, storms, marathons, no regressors:  0.1118  \n",
    "\n",
    "No seasonality, three holidays, covid:  0.1422  \n",
    "No seasonality, three holidays, winter:  0.1126  \n",
    "No seasonality, three holidays, weekend:  0.1100  \n",
    "No seasonality, three holidays, temp_max:  0.1129  \n",
    "No seasonality, three holidays, temp_min:  0.1100  \n",
    "No seasonality, three holidays, temp_avg:  0.1115  \n",
    "No seasonality, three holidays, daylight:  0.1113  \n",
    "No seasonality, three holidays, rain:  0.1113  \n",
    "No seasonality, three holidays, snow:  0.1120  \n",
    "No seasonality, three holidays, wind:  0.1130  \n",
    "\n",
    "No seasonality, three holidays, weekend, temp_min, temp_avg, daylight, rain:  0.1073  \n",
    "No seasonality, three holidays, COVID lockdown, weekend, temp_min, temp_avg, daylight, rain:  0.1059  \n",
    "No seasonality, three holidays, COVID lockdown, weekend, temp_min, temp_avg, daylight, rain, chgpt = 0.13:  0.1029  \n",
    "No seasonality, three holidays, COVID lockdown, weekend, temp_min, temp_avg, daylight, rain, chgpt, app = 0.13:  <'>0.1028</green>  "
   ]
  },
  {
   "cell_type": "code",
   "execution_count": null,
   "id": "a185ae5a-fd85-469e-873d-071d3b7a426a",
   "metadata": {},
   "outputs": [],
   "source": [
    "# Plot actual vs. predicted values for the test set\n",
    "plt.figure(figsize=(10, 6))\n",
    "plt.scatter(train_df['ds'], train_df['y'], label='Train Actual', marker='.', alpha=.3, color='darkblue')\n",
    "plt.plot(train_forecast['ds'], train_forecast['yhat'], label='Train Predicted', linestyle='-', linewidth=.5, color='tab:blue')\n",
    "plt.scatter(test_df['ds'], test_df['y'], label='Test Actual', marker='.', alpha=.3, color='darkgreen')\n",
    "plt.plot(test_forecast['ds'], test_forecast['yhat'], label='Test Predicted', linestyle='-', linewidth=.5, color='tab:green')\n",
    "plt.legend()\n",
    "plt.show()"
   ]
  },
  {
   "cell_type": "markdown",
   "id": "f5ad670d-4b79-4a3d-8e05-fa3b2b3bf1e6",
   "metadata": {},
   "source": [
    "&nbsp;"
   ]
  },
  {
   "cell_type": "markdown",
   "id": "d0efdf9f-98ea-47c3-b9b8-30d158cf3731",
   "metadata": {},
   "source": [
    "### LTSM"
   ]
  },
  {
   "cell_type": "code",
   "execution_count": null,
   "id": "79734e63-3213-4fd9-a96b-9ce6be1f7841",
   "metadata": {},
   "outputs": [],
   "source": [
    "time_series.columns"
   ]
  },
  {
   "cell_type": "code",
   "execution_count": null,
   "id": "9f94f797-010f-4ce4-8846-a8a1783fc1cc",
   "metadata": {},
   "outputs": [],
   "source": [
    "features_to_drop = ['Count', 'covid', 'winter', 'wind_speed_10m_max', 'population']\n",
    "\n",
    "# Assuming 'time_series' is your DataFrame\n",
    "df = time_series.drop(columns=['Count_diff', 'week_diff'], axis=1).copy()\n",
    "\n",
    "# Ensure the DataFrame is sorted by date\n",
    "df = df.sort_index()\n",
    "\n",
    "# Separate features and target\n",
    "features = df.drop(columns=features_to_drop)\n",
    "target = df[['Count']]\n",
    "\n",
    "# Scale the target using MinMaxScaler\n",
    "target_scaler = MinMaxScaler(feature_range=(0, 1))\n",
    "scaled_target = target_scaler.fit_transform(target)\n",
    "\n",
    "# Combine scaled features and scaled target for sequence creation\n",
    "scaled_data = np.concatenate((scaled_target, features.values), axis=1)\n",
    "\n",
    "# Function to create sequences\n",
    "def create_sequences(data, time_steps=1):\n",
    "    X, y = [], []\n",
    "    for i in range(len(data) - time_steps):\n",
    "        X.append(data[i:(i + time_steps), 1:])  # All columns except the target for input\n",
    "        y.append(data[i + time_steps, 0])  # Target column for output\n",
    "    return np.array(X), np.array(y)\n",
    "\n",
    "time_steps = 28  # Number of time steps to look back\n",
    "X, y = create_sequences(scaled_data, time_steps)\n",
    "\n",
    "# Reshape X to be [samples, time steps, features]\n",
    "X = X.reshape((X.shape[0], X.shape[1], X.shape[2]))\n",
    "\n",
    "# Split into training and testing data\n",
    "split = int(0.8 * len(X))\n",
    "X_train, X_test = X[:split], X[split:]\n",
    "y_train, y_test = y[:split], y[split:]\n",
    "\n",
    "# Build a hybrid CNN-LSTM model\n",
    "lstm_model = Sequential()\n",
    "lstm_model.add(Input(shape=(time_steps, X.shape[2])))\n",
    "lstm_model.add(Conv1D(filters=64, kernel_size=3, activation='relu'))\n",
    "lstm_model.add(MaxPooling1D(pool_size=2))\n",
    "lstm_model.add(Bidirectional(GRU(50, return_sequences=True, kernel_regularizer=l2(0.01))))\n",
    "lstm_model.add(Dropout(0.4))\n",
    "lstm_model.add(Bidirectional(GRU(50, return_sequences=False, kernel_regularizer=l2(0.01))))\n",
    "lstm_model.add(Dropout(0.4))\n",
    "lstm_model.add(Dense(25, kernel_regularizer=l2(0.01)))\n",
    "lstm_model.add(Dense(1))\n",
    "\n",
    "# Compile the model\n",
    "optimizer = Adam(learning_rate=0.0001)\n",
    "lstm_model.compile(optimizer=optimizer, loss='mean_squared_error')\n",
    "\n",
    "# Early stopping to prevent overfitting\n",
    "early_stopping = EarlyStopping(monitor='val_loss', patience=15, restore_best_weights=True)\n",
    "\n",
    "# Train the model\n",
    "lstm_model.fit(X_train, y_train, validation_split=0.2, batch_size=32, epochs=100, callbacks=[early_stopping])\n",
    "\n",
    "# Predict and invert the scaling\n",
    "train_predictions = lstm_model.predict(X_train)\n",
    "test_predictions = lstm_model.predict(X_test)\n",
    "\n",
    "train_predictions = target_scaler.inverse_transform(train_predictions)\n",
    "test_predictions = target_scaler.inverse_transform(test_predictions)\n",
    "\n",
    "# Inverse transform y_train and y_test for comparison\n",
    "train_actual = target_scaler.inverse_transform(y_train.reshape(-1, 1))\n",
    "test_actual = target_scaler.inverse_transform(y_test.reshape(-1, 1))"
   ]
  },
  {
   "cell_type": "code",
   "execution_count": null,
   "id": "5c08190d-aa85-4dfb-9fca-603ae69e9ba1",
   "metadata": {},
   "outputs": [],
   "source": [
    "train_lstm_mape = mean_absolute_percentage_error(train_actual, train_predictions)\n",
    "test_lstm_mape = mean_absolute_percentage_error(test_actual, test_predictions)\n",
    "\n",
    "\n",
    "print('LSTM model errors')\n",
    "print('-------------------------')\n",
    "print(f'Train MAPE: {train_lstm_mape:.4f}')\n",
    "print('-------------------------')\n",
    "print(f'Test MAPE: {test_lstm_mape:.4f}')\n"
   ]
  },
  {
   "cell_type": "code",
   "execution_count": null,
   "id": "05761ee3-c592-48a3-bd27-31ca49286004",
   "metadata": {},
   "outputs": [],
   "source": [
    "# Plot the results\n",
    "plt.figure(figsize=(10, 6))\n",
    "plt.plot(df.index[time_steps:split + time_steps], train_actual, label='Train Actual')\n",
    "plt.plot(df.index[time_steps:split + time_steps], train_predictions, label='Train Predictions', linestyle='--')\n",
    "plt.plot(df.index[split + time_steps:], test_actual, label='Test Actual')\n",
    "plt.plot(df.index[split + time_steps:], test_predictions, label='Test Predictions', linestyle='--')\n",
    "plt.legend()\n",
    "plt.show()"
   ]
  },
  {
   "cell_type": "code",
   "execution_count": null,
   "id": "e4c32025-75f5-4f7f-9a92-9aa0f49134e0",
   "metadata": {},
   "outputs": [],
   "source": []
  },
  {
   "cell_type": "code",
   "execution_count": null,
   "id": "42fe2d0d-a31d-40b6-b1f7-6c4018e9a72c",
   "metadata": {},
   "outputs": [],
   "source": [
    "# Close the Dask client\n",
    "client.close()"
   ]
  }
 ],
 "metadata": {
  "kernelspec": {
   "display_name": "Python 3 (ipykernel)",
   "language": "python",
   "name": "python3"
  },
  "language_info": {
   "codemirror_mode": {
    "name": "ipython",
    "version": 3
   },
   "file_extension": ".py",
   "mimetype": "text/x-python",
   "name": "python",
   "nbconvert_exporter": "python",
   "pygments_lexer": "ipython3",
   "version": "3.12.3"
  }
 },
 "nbformat": 4,
 "nbformat_minor": 5
}

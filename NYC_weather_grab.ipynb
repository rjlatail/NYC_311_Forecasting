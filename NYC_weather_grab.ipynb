{
 "cells": [
  {
   "cell_type": "markdown",
   "id": "3b09105c-9f9a-4164-98dc-18718c2e8082",
   "metadata": {},
   "source": []
  },
  {
   "cell_type": "code",
   "execution_count": 1,
   "id": "f200c7d2-cc1a-49db-8c62-64e90e85003b",
   "metadata": {},
   "outputs": [],
   "source": [
    "import openmeteo_requests\n",
    "import requests_cache\n",
    "import pandas as pd\n",
    "from retry_requests import retry\n",
    "import time\n",
    "from datetime import datetime, timedelta\n"
   ]
  },
  {
   "cell_type": "code",
   "execution_count": 2,
   "id": "4b61c2b3-e9cb-4f45-ae4e-23824faec8a2",
   "metadata": {},
   "outputs": [],
   "source": [
    "# Setup the Open-Meteo API client with cache and retry on error\n",
    "cache_session = requests_cache.CachedSession('.cache', expire_after=-1)\n",
    "retry_session = retry(cache_session, retries=5, backoff_factor=0.2)\n",
    "openmeteo = openmeteo_requests.Client(session=retry_session)"
   ]
  },
  {
   "cell_type": "code",
   "execution_count": 3,
   "id": "cf8ee319-fd16-475c-acb5-42147d498b46",
   "metadata": {},
   "outputs": [],
   "source": [
    "# Function to get weather data for a given date range\n",
    "def get_weather_data(start_date, end_date):\n",
    "    url = \"https://archive-api.open-meteo.com/v1/archive\"\n",
    "    params = {\n",
    "        \"latitude\": 40.7834,\n",
    "        \"longitude\": -73.9663,\n",
    "        \"start_date\": start_date,\n",
    "        \"end_date\": end_date,\n",
    "        \"daily\": [\"weather_code\", \"temperature_2m_max\", \"temperature_2m_min\", \"temperature_2m_mean\", \"daylight_duration\", \"rain_sum\", \"snowfall_sum\", \"wind_speed_10m_max\"],\n",
    "        \"temperature_unit\": \"fahrenheit\",\n",
    "        \"wind_speed_unit\": \"mph\",\n",
    "        \"precipitation_unit\": \"inch\",\n",
    "        \"timezone\": \"America/New_York\"\n",
    "    }\n",
    "    responses = openmeteo.weather_api(url, params=params)\n",
    "    return responses"
   ]
  },
  {
   "cell_type": "code",
   "execution_count": 4,
   "id": "004b135f-b0b3-43b2-93f2-e1cb6303fe85",
   "metadata": {},
   "outputs": [],
   "source": [
    "# Function to process the response and convert it into a DataFrame\n",
    "def process_response(response):\n",
    "    daily = response.Daily()\n",
    "    daily_data = {\n",
    "        \"date\": pd.date_range(\n",
    "            start=pd.to_datetime(daily.Time(), unit=\"s\", utc=True),\n",
    "            end=pd.to_datetime(daily.TimeEnd(), unit=\"s\", utc=True),\n",
    "            freq=pd.Timedelta(seconds=daily.Interval()),\n",
    "            inclusive=\"left\"\n",
    "        ),\n",
    "        \"weather_code\": daily.Variables(0).ValuesAsNumpy(),\n",
    "        \"temperature_2m_max\": daily.Variables(1).ValuesAsNumpy(),\n",
    "        \"temperature_2m_min\": daily.Variables(2).ValuesAsNumpy(),\n",
    "        \"temperature_2m_mean\": daily.Variables(3).ValuesAsNumpy(),\n",
    "        \"daylight_duration\": daily.Variables(4).ValuesAsNumpy(),\n",
    "        \"rain_sum\": daily.Variables(5).ValuesAsNumpy(),\n",
    "        \"snowfall_sum\": daily.Variables(6).ValuesAsNumpy(),\n",
    "        \"wind_speed_10m_max\": daily.Variables(7).ValuesAsNumpy(),\n",
    "    }\n",
    "    return pd.DataFrame(data=daily_data)"
   ]
  },
  {
   "cell_type": "code",
   "execution_count": 5,
   "id": "41842a1c-de90-41be-a032-b1530297fe3a",
   "metadata": {},
   "outputs": [],
   "source": [
    "# Main function to fetch and aggregate data\n",
    "def fetch_weather_data(start_date, end_date, chunk_size_days=1):\n",
    "    current_date = start_date\n",
    "    all_data = []\n",
    "\n",
    "    while current_date < end_date:\n",
    "        next_date = current_date + timedelta(days=chunk_size_days)\n",
    "        if next_date > end_date:\n",
    "            next_date = end_date\n",
    "\n",
    "        # Fetch data for the current chunk\n",
    "        responses = get_weather_data(current_date.strftime('%Y-%m-%d'), next_date.strftime('%Y-%m-%d'))\n",
    "\n",
    "        # Process each response\n",
    "        for response in responses:\n",
    "            df_chunk = process_response(response)\n",
    "            all_data.append(df_chunk)\n",
    "\n",
    "        # Respect API rate limits\n",
    "        time.sleep(0.75)  # Wait for 1 second between requests\n",
    "\n",
    "        # Move to the next date chunk\n",
    "        current_date = next_date\n",
    "\n",
    "    # Concatenate all chunks into a single DataFrame\n",
    "    full_dataframe = pd.concat(all_data, ignore_index=True)\n",
    "    return full_dataframe"
   ]
  },
  {
   "cell_type": "code",
   "execution_count": 6,
   "id": "1c4aff93-dd86-4910-b027-6d7448e3eb3c",
   "metadata": {},
   "outputs": [
    {
     "name": "stdout",
     "output_type": "stream",
     "text": [
      "                           date  weather_code  temperature_2m_max  \\\n",
      "0     2010-01-01 04:00:00+00:00          73.0           41.337502   \n",
      "1     2010-01-02 04:00:00+00:00          71.0           30.177500   \n",
      "2     2010-01-02 04:00:00+00:00          71.0           30.177500   \n",
      "3     2010-01-03 04:00:00+00:00          71.0           22.977501   \n",
      "4     2010-01-03 04:00:00+00:00          71.0           22.977501   \n",
      "...                         ...           ...                 ...   \n",
      "10461 2024-04-28 04:00:00+00:00          51.0           72.770897   \n",
      "10462 2024-04-28 04:00:00+00:00          51.0           72.770897   \n",
      "10463 2024-04-29 04:00:00+00:00          63.0           82.400902   \n",
      "10464 2024-04-29 04:00:00+00:00          63.0           82.400902   \n",
      "10465 2024-04-30 04:00:00+00:00          61.0           71.150902   \n",
      "\n",
      "       temperature_2m_min  temperature_2m_mean  daylight_duration  rain_sum  \\\n",
      "0               24.417500            32.266247       33514.382812  0.011811   \n",
      "1               14.877499            25.358749       33559.191406  0.003937   \n",
      "2               14.877499            25.358749       33559.191406  0.003937   \n",
      "3               13.527500            17.914999       33607.593750  0.000000   \n",
      "4               13.527500            17.914999       33607.593750  0.000000   \n",
      "...                   ...                  ...                ...       ...   \n",
      "10461           47.390900            59.323406       49926.339844  0.019685   \n",
      "10462           47.390900            59.323406       49926.339844  0.019685   \n",
      "10463           56.480900            67.625908       50069.058594  0.299213   \n",
      "10464           56.480900            67.625908       50069.058594  0.299213   \n",
      "10465           51.170898            58.715900       50210.710938  0.106299   \n",
      "\n",
      "       snowfall_sum  wind_speed_10m_max  \n",
      "0          0.413386            6.814594  \n",
      "1          0.275591           16.931887  \n",
      "2          0.275591           16.931887  \n",
      "3          0.110236           21.947695  \n",
      "4          0.110236           21.947695  \n",
      "...             ...                 ...  \n",
      "10461      0.000000           10.362889  \n",
      "10462      0.000000           10.362889  \n",
      "10463      0.000000            8.790015  \n",
      "10464      0.000000            8.790015  \n",
      "10465      0.000000            9.812248  \n",
      "\n",
      "[10466 rows x 9 columns]\n"
     ]
    }
   ],
   "source": [
    "# Define the date range\n",
    "start_date = datetime.strptime(\"2010-01-01\", '%Y-%m-%d')\n",
    "end_date = datetime.strptime(\"2024-04-30\", '%Y-%m-%d')\n",
    "\n",
    "# Fetch the weather data\n",
    "weather_data = fetch_weather_data(start_date, end_date)\n",
    "\n",
    "# Print the resulting DataFrame\n",
    "print(weather_data)"
   ]
  },
  {
   "cell_type": "code",
   "execution_count": 9,
   "id": "021935aa-ec41-4a43-bc3f-c1bb8ecd7731",
   "metadata": {},
   "outputs": [],
   "source": [
    "weather_data.to_csv('Data/NYC_weather_data.csv')"
   ]
  },
  {
   "cell_type": "code",
   "execution_count": null,
   "id": "37bb9b50-eb1a-40f7-ae1d-79f0f2d64585",
   "metadata": {},
   "outputs": [],
   "source": []
  }
 ],
 "metadata": {
  "kernelspec": {
   "display_name": "Python 3 (ipykernel)",
   "language": "python",
   "name": "python3"
  },
  "language_info": {
   "codemirror_mode": {
    "name": "ipython",
    "version": 3
   },
   "file_extension": ".py",
   "mimetype": "text/x-python",
   "name": "python",
   "nbconvert_exporter": "python",
   "pygments_lexer": "ipython3",
   "version": "3.12.3"
  }
 },
 "nbformat": 4,
 "nbformat_minor": 5
}
